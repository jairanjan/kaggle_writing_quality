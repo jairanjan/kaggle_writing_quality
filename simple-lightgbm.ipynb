{
 "cells": [
  {
   "cell_type": "code",
   "execution_count": 1,
   "id": "8c5511da",
   "metadata": {
    "_cell_guid": "b1076dfc-b9ad-4769-8c92-a6c4dae69d19",
    "_uuid": "8f2839f25d086af736a60e9eeb907d3b93b6e0e5",
    "execution": {
     "iopub.execute_input": "2023-11-24T10:39:07.468796Z",
     "iopub.status.busy": "2023-11-24T10:39:07.468349Z",
     "iopub.status.idle": "2023-11-24T10:39:08.616205Z",
     "shell.execute_reply": "2023-11-24T10:39:08.614823Z"
    },
    "papermill": {
     "duration": 1.16589,
     "end_time": "2023-11-24T10:39:08.619408",
     "exception": false,
     "start_time": "2023-11-24T10:39:07.453518",
     "status": "completed"
    },
    "tags": []
   },
   "outputs": [
    {
     "name": "stdout",
     "output_type": "stream",
     "text": [
      "/kaggle/input/linking-writing-processes-to-writing-quality/sample_submission.csv\n",
      "/kaggle/input/linking-writing-processes-to-writing-quality/test_logs.csv\n",
      "/kaggle/input/linking-writing-processes-to-writing-quality/train_scores.csv\n",
      "/kaggle/input/linking-writing-processes-to-writing-quality/train_logs.csv\n",
      "/kaggle/input/model-lgb/lgb_opt_11182023\n",
      "/kaggle/input/cat-dict/cat_dict\n"
     ]
    }
   ],
   "source": [
    "import numpy as np # linear algebra\n",
    "import pandas as pd # data processing, CSV file I/O (e.g. pd.read_csv)\n",
    "import os\n",
    "for dirname, _, filenames in os.walk('/kaggle/input'):\n",
    "    for filename in filenames:\n",
    "        print(os.path.join(dirname, filename))"
   ]
  },
  {
   "cell_type": "code",
   "execution_count": 2,
   "id": "34479c8f",
   "metadata": {
    "execution": {
     "iopub.execute_input": "2023-11-24T10:39:08.649664Z",
     "iopub.status.busy": "2023-11-24T10:39:08.649030Z",
     "iopub.status.idle": "2023-11-24T10:39:11.425588Z",
     "shell.execute_reply": "2023-11-24T10:39:11.424614Z"
    },
    "papermill": {
     "duration": 2.795137,
     "end_time": "2023-11-24T10:39:11.428459",
     "exception": false,
     "start_time": "2023-11-24T10:39:08.633322",
     "status": "completed"
    },
    "tags": []
   },
   "outputs": [],
   "source": [
    "from sklearn.metrics import mean_squared_error, r2_score\n",
    "from hyperopt import hp, tpe, fmin, Trials, STATUS_OK"
   ]
  },
  {
   "cell_type": "code",
   "execution_count": 3,
   "id": "6cd3111c",
   "metadata": {
    "execution": {
     "iopub.execute_input": "2023-11-24T10:39:11.457790Z",
     "iopub.status.busy": "2023-11-24T10:39:11.456386Z",
     "iopub.status.idle": "2023-11-24T10:39:11.833141Z",
     "shell.execute_reply": "2023-11-24T10:39:11.831759Z"
    },
    "papermill": {
     "duration": 0.393896,
     "end_time": "2023-11-24T10:39:11.836165",
     "exception": false,
     "start_time": "2023-11-24T10:39:11.442269",
     "status": "completed"
    },
    "tags": []
   },
   "outputs": [],
   "source": [
    "import matplotlib.pyplot as plt\n",
    "import seaborn as sns\n",
    "# Sometimes we want to see more than a single output in the cell below command enables that\n",
    "from IPython.core.interactiveshell import InteractiveShell\n",
    "InteractiveShell.ast_node_interactivity=\"all\""
   ]
  },
  {
   "cell_type": "code",
   "execution_count": 4,
   "id": "f6ec76cd",
   "metadata": {
    "execution": {
     "iopub.execute_input": "2023-11-24T10:39:11.863804Z",
     "iopub.status.busy": "2023-11-24T10:39:11.863340Z",
     "iopub.status.idle": "2023-11-24T10:39:13.492758Z",
     "shell.execute_reply": "2023-11-24T10:39:13.491717Z"
    },
    "papermill": {
     "duration": 1.647248,
     "end_time": "2023-11-24T10:39:13.496247",
     "exception": false,
     "start_time": "2023-11-24T10:39:11.848999",
     "status": "completed"
    },
    "tags": []
   },
   "outputs": [],
   "source": [
    "from lightgbm import LGBMRegressor"
   ]
  },
  {
   "cell_type": "code",
   "execution_count": 5,
   "id": "efad8bad",
   "metadata": {
    "execution": {
     "iopub.execute_input": "2023-11-24T10:39:13.524285Z",
     "iopub.status.busy": "2023-11-24T10:39:13.523431Z",
     "iopub.status.idle": "2023-11-24T10:39:31.838653Z",
     "shell.execute_reply": "2023-11-24T10:39:31.837487Z"
    },
    "papermill": {
     "duration": 18.332447,
     "end_time": "2023-11-24T10:39:31.841707",
     "exception": false,
     "start_time": "2023-11-24T10:39:13.509260",
     "status": "completed"
    },
    "tags": []
   },
   "outputs": [],
   "source": [
    "train = pd.read_csv(\"/kaggle/input/linking-writing-processes-to-writing-quality/train_logs.csv\")\n",
    "test = pd.read_csv(\"/kaggle/input/linking-writing-processes-to-writing-quality/test_logs.csv\")\n",
    "train_scores = pd.read_csv(\"/kaggle/input/linking-writing-processes-to-writing-quality/train_scores.csv\")\n",
    "sample_submission = pd.read_csv(\"/kaggle/input/linking-writing-processes-to-writing-quality/sample_submission.csv\")"
   ]
  },
  {
   "cell_type": "code",
   "execution_count": 6,
   "id": "b8843db3",
   "metadata": {
    "execution": {
     "iopub.execute_input": "2023-11-24T10:39:31.868526Z",
     "iopub.status.busy": "2023-11-24T10:39:31.867755Z",
     "iopub.status.idle": "2023-11-24T10:39:34.614117Z",
     "shell.execute_reply": "2023-11-24T10:39:34.612802Z"
    },
    "papermill": {
     "duration": 2.763053,
     "end_time": "2023-11-24T10:39:34.617310",
     "exception": false,
     "start_time": "2023-11-24T10:39:31.854257",
     "status": "completed"
    },
    "tags": []
   },
   "outputs": [],
   "source": [
    "train['id'] = train['id'].astype(str)\n",
    "train_scores['id'] = train_scores['id'].astype(str)\n",
    "# Add the score\n",
    "train=train.merge(train_scores,left_on =\"id\",right_on=\"id\",how=\"left\")"
   ]
  },
  {
   "cell_type": "code",
   "execution_count": 7,
   "id": "8bee18fa",
   "metadata": {
    "execution": {
     "iopub.execute_input": "2023-11-24T10:39:34.646015Z",
     "iopub.status.busy": "2023-11-24T10:39:34.645574Z",
     "iopub.status.idle": "2023-11-24T10:39:35.345103Z",
     "shell.execute_reply": "2023-11-24T10:39:35.343703Z"
    },
    "papermill": {
     "duration": 0.718072,
     "end_time": "2023-11-24T10:39:35.348302",
     "exception": false,
     "start_time": "2023-11-24T10:39:34.630230",
     "status": "completed"
    },
    "tags": []
   },
   "outputs": [
    {
     "data": {
      "text/plain": [
       "815.4300000000001"
      ]
     },
     "execution_count": 7,
     "metadata": {},
     "output_type": "execute_result"
    }
   ],
   "source": [
    "# Sample to be divided into train and test \n",
    "# but we need to be carefull random sampling may lead a to an id being present in both train & test\n",
    "# number of unique results we need in test\n",
    "len(train.id.unique())*.33"
   ]
  },
  {
   "cell_type": "code",
   "execution_count": 8,
   "id": "73f0cd18",
   "metadata": {
    "execution": {
     "iopub.execute_input": "2023-11-24T10:39:35.377081Z",
     "iopub.status.busy": "2023-11-24T10:39:35.375971Z",
     "iopub.status.idle": "2023-11-24T10:39:36.068643Z",
     "shell.execute_reply": "2023-11-24T10:39:36.067244Z"
    },
    "papermill": {
     "duration": 0.710605,
     "end_time": "2023-11-24T10:39:36.071968",
     "exception": false,
     "start_time": "2023-11-24T10:39:35.361363",
     "status": "completed"
    },
    "tags": []
   },
   "outputs": [],
   "source": [
    "from random import sample\n",
    "test_id=sample(list(train.id.unique()),100)"
   ]
  },
  {
   "cell_type": "code",
   "execution_count": 9,
   "id": "7b235780",
   "metadata": {
    "execution": {
     "iopub.execute_input": "2023-11-24T10:39:36.100535Z",
     "iopub.status.busy": "2023-11-24T10:39:36.100128Z",
     "iopub.status.idle": "2023-11-24T10:39:38.031125Z",
     "shell.execute_reply": "2023-11-24T10:39:38.029602Z"
    },
    "papermill": {
     "duration": 1.948723,
     "end_time": "2023-11-24T10:39:38.034283",
     "exception": false,
     "start_time": "2023-11-24T10:39:36.085560",
     "status": "completed"
    },
    "tags": []
   },
   "outputs": [],
   "source": [
    "# Get train and test based on test id\n",
    "train_m= train[~train.id.isin(test_id)]\n",
    "test_m= train[train.id.isin(test_id)]"
   ]
  },
  {
   "cell_type": "code",
   "execution_count": 10,
   "id": "9345376a",
   "metadata": {
    "execution": {
     "iopub.execute_input": "2023-11-24T10:39:38.061947Z",
     "iopub.status.busy": "2023-11-24T10:39:38.061486Z",
     "iopub.status.idle": "2023-11-24T10:39:38.070231Z",
     "shell.execute_reply": "2023-11-24T10:39:38.068765Z"
    },
    "papermill": {
     "duration": 0.025342,
     "end_time": "2023-11-24T10:39:38.072871",
     "exception": false,
     "start_time": "2023-11-24T10:39:38.047529",
     "status": "completed"
    },
    "tags": []
   },
   "outputs": [
    {
     "data": {
      "text/plain": [
       "0.9560797668494193"
      ]
     },
     "execution_count": 10,
     "metadata": {},
     "output_type": "execute_result"
    }
   ],
   "source": [
    "train_m.shape[0]/train.shape[0]"
   ]
  },
  {
   "cell_type": "code",
   "execution_count": 11,
   "id": "cf049d53",
   "metadata": {
    "execution": {
     "iopub.execute_input": "2023-11-24T10:39:38.100358Z",
     "iopub.status.busy": "2023-11-24T10:39:38.099954Z",
     "iopub.status.idle": "2023-11-24T10:39:44.208666Z",
     "shell.execute_reply": "2023-11-24T10:39:44.207162Z"
    },
    "papermill": {
     "duration": 6.125593,
     "end_time": "2023-11-24T10:39:44.211558",
     "exception": false,
     "start_time": "2023-11-24T10:39:38.085965",
     "status": "completed"
    },
    "tags": []
   },
   "outputs": [
    {
     "name": "stderr",
     "output_type": "stream",
     "text": [
      "/tmp/ipykernel_20/1696162463.py:1: SettingWithCopyWarning: \n",
      "A value is trying to be set on a copy of a slice from a DataFrame.\n",
      "Try using .loc[row_indexer,col_indexer] = value instead\n",
      "\n",
      "See the caveats in the documentation: https://pandas.pydata.org/pandas-docs/stable/user_guide/indexing.html#returning-a-view-versus-a-copy\n",
      "  train_m.loc[:,'text_change_length'] = train_m['text_change'].apply(lambda x:len(x))\n"
     ]
    }
   ],
   "source": [
    "train_m.loc[:,'text_change_length'] = train_m['text_change'].apply(lambda x:len(x))"
   ]
  },
  {
   "cell_type": "code",
   "execution_count": 12,
   "id": "75d54c42",
   "metadata": {
    "execution": {
     "iopub.execute_input": "2023-11-24T10:39:44.251482Z",
     "iopub.status.busy": "2023-11-24T10:39:44.251002Z",
     "iopub.status.idle": "2023-11-24T10:39:47.011809Z",
     "shell.execute_reply": "2023-11-24T10:39:47.009796Z"
    },
    "papermill": {
     "duration": 2.784284,
     "end_time": "2023-11-24T10:39:47.015221",
     "exception": false,
     "start_time": "2023-11-24T10:39:44.230937",
     "status": "completed"
    },
    "tags": []
   },
   "outputs": [
    {
     "name": "stderr",
     "output_type": "stream",
     "text": [
      "/tmp/ipykernel_20/3634061674.py:1: SettingWithCopyWarning: \n",
      "A value is trying to be set on a copy of a slice from a DataFrame.\n",
      "Try using .loc[row_indexer,col_indexer] = value instead\n",
      "\n",
      "See the caveats in the documentation: https://pandas.pydata.org/pandas-docs/stable/user_guide/indexing.html#returning-a-view-versus-a-copy\n",
      "  train_m.loc[:,'activity_c']=train_m['activity'].apply(lambda x:\"move\" if \"Move\" in x else x )\n"
     ]
    }
   ],
   "source": [
    "train_m.loc[:,'activity_c']=train_m['activity'].apply(lambda x:\"move\" if \"Move\" in x else x )"
   ]
  },
  {
   "cell_type": "code",
   "execution_count": 13,
   "id": "93409363",
   "metadata": {
    "execution": {
     "iopub.execute_input": "2023-11-24T10:39:47.044056Z",
     "iopub.status.busy": "2023-11-24T10:39:47.043600Z",
     "iopub.status.idle": "2023-11-24T10:39:47.049911Z",
     "shell.execute_reply": "2023-11-24T10:39:47.048411Z"
    },
    "papermill": {
     "duration": 0.023973,
     "end_time": "2023-11-24T10:39:47.052534",
     "exception": false,
     "start_time": "2023-11-24T10:39:47.028561",
     "status": "completed"
    },
    "tags": []
   },
   "outputs": [],
   "source": [
    "# let's create a dictionary to store the factorisers for categorical variables\n",
    "cats=['activity_c','down_event','up_event']\n",
    "# cat_dict={}\n",
    "# for i in cats:\n",
    "#     cat_dict[i]={}\n",
    "#     for j in range(0,len(list(train_m[i].unique()))):\n",
    "#         cat_dict[i][list(train_m[i].unique())[j]]=j"
   ]
  },
  {
   "cell_type": "code",
   "execution_count": 14,
   "id": "11fddc1a",
   "metadata": {
    "execution": {
     "iopub.execute_input": "2023-11-24T10:39:47.081331Z",
     "iopub.status.busy": "2023-11-24T10:39:47.080880Z",
     "iopub.status.idle": "2023-11-24T10:39:47.086430Z",
     "shell.execute_reply": "2023-11-24T10:39:47.084987Z"
    },
    "papermill": {
     "duration": 0.023323,
     "end_time": "2023-11-24T10:39:47.089158",
     "exception": false,
     "start_time": "2023-11-24T10:39:47.065835",
     "status": "completed"
    },
    "tags": []
   },
   "outputs": [],
   "source": [
    "import joblib\n",
    "#joblib.dump(cat_dict,\"cat_dict\")"
   ]
  },
  {
   "cell_type": "code",
   "execution_count": 15,
   "id": "6d96d4c6",
   "metadata": {
    "execution": {
     "iopub.execute_input": "2023-11-24T10:39:47.119313Z",
     "iopub.status.busy": "2023-11-24T10:39:47.117724Z",
     "iopub.status.idle": "2023-11-24T10:39:47.125472Z",
     "shell.execute_reply": "2023-11-24T10:39:47.123723Z"
    },
    "papermill": {
     "duration": 0.025741,
     "end_time": "2023-11-24T10:39:47.128226",
     "exception": false,
     "start_time": "2023-11-24T10:39:47.102485",
     "status": "completed"
    },
    "tags": []
   },
   "outputs": [],
   "source": [
    "model_vars=['event_id', 'down_time', 'up_time', 'action_time',\n",
    "       'down_event', 'up_event', 'cursor_position',\n",
    "       'word_count','text_change_length', 'activity_c']"
   ]
  },
  {
   "cell_type": "code",
   "execution_count": 16,
   "id": "a7bbab13",
   "metadata": {
    "execution": {
     "iopub.execute_input": "2023-11-24T10:39:47.157195Z",
     "iopub.status.busy": "2023-11-24T10:39:47.156659Z",
     "iopub.status.idle": "2023-11-24T10:39:47.168239Z",
     "shell.execute_reply": "2023-11-24T10:39:47.166539Z"
    },
    "papermill": {
     "duration": 0.029851,
     "end_time": "2023-11-24T10:39:47.171483",
     "exception": false,
     "start_time": "2023-11-24T10:39:47.141632",
     "status": "completed"
    },
    "tags": []
   },
   "outputs": [],
   "source": [
    "cat_dict=joblib.load(\"/kaggle/input/cat-dict/cat_dict\")"
   ]
  },
  {
   "cell_type": "code",
   "execution_count": 17,
   "id": "b42050cd",
   "metadata": {
    "execution": {
     "iopub.execute_input": "2023-11-24T10:39:47.204566Z",
     "iopub.status.busy": "2023-11-24T10:39:47.204135Z",
     "iopub.status.idle": "2023-11-24T10:39:50.115838Z",
     "shell.execute_reply": "2023-11-24T10:39:50.114461Z"
    },
    "papermill": {
     "duration": 2.931015,
     "end_time": "2023-11-24T10:39:50.118963",
     "exception": false,
     "start_time": "2023-11-24T10:39:47.187948",
     "status": "completed"
    },
    "tags": []
   },
   "outputs": [],
   "source": [
    "X_train=train_m.copy()"
   ]
  },
  {
   "cell_type": "code",
   "execution_count": 18,
   "id": "62ba9725",
   "metadata": {
    "execution": {
     "iopub.execute_input": "2023-11-24T10:39:50.147916Z",
     "iopub.status.busy": "2023-11-24T10:39:50.147464Z",
     "iopub.status.idle": "2023-11-24T10:39:52.439970Z",
     "shell.execute_reply": "2023-11-24T10:39:52.438661Z"
    },
    "papermill": {
     "duration": 2.309997,
     "end_time": "2023-11-24T10:39:52.442881",
     "exception": false,
     "start_time": "2023-11-24T10:39:50.132884",
     "status": "completed"
    },
    "tags": []
   },
   "outputs": [],
   "source": [
    "for i in cats:\n",
    "    X_train[i]=X_train[i].map(cat_dict[i])"
   ]
  },
  {
   "cell_type": "code",
   "execution_count": 19,
   "id": "9e001649",
   "metadata": {
    "execution": {
     "iopub.execute_input": "2023-11-24T10:39:52.473225Z",
     "iopub.status.busy": "2023-11-24T10:39:52.471777Z",
     "iopub.status.idle": "2023-11-24T10:39:52.481616Z",
     "shell.execute_reply": "2023-11-24T10:39:52.479985Z"
    },
    "papermill": {
     "duration": 0.027496,
     "end_time": "2023-11-24T10:39:52.485147",
     "exception": false,
     "start_time": "2023-11-24T10:39:52.457651",
     "status": "completed"
    },
    "tags": []
   },
   "outputs": [],
   "source": [
    "def pre_pro(df):\n",
    "    df.loc[:,'text_change_length'] = df['text_change'].apply(lambda x:len(x))\n",
    "    df.loc[:,'activity_c']=df['activity'].apply(lambda x:\"move\" if \"Move\" in x else x )\n",
    "    for i in ['activity_c', 'down_event', 'up_event']:\n",
    "        df.loc[:,i]=df[i].map(cat_dict[i])\n",
    "        \n",
    "    return df"
   ]
  },
  {
   "cell_type": "code",
   "execution_count": 20,
   "id": "8ddedc60",
   "metadata": {
    "execution": {
     "iopub.execute_input": "2023-11-24T10:39:52.514600Z",
     "iopub.status.busy": "2023-11-24T10:39:52.513789Z",
     "iopub.status.idle": "2023-11-24T10:39:53.060017Z",
     "shell.execute_reply": "2023-11-24T10:39:53.058778Z"
    },
    "papermill": {
     "duration": 0.564289,
     "end_time": "2023-11-24T10:39:53.063125",
     "exception": false,
     "start_time": "2023-11-24T10:39:52.498836",
     "status": "completed"
    },
    "tags": []
   },
   "outputs": [
    {
     "name": "stderr",
     "output_type": "stream",
     "text": [
      "/tmp/ipykernel_20/258444671.py:2: SettingWithCopyWarning: \n",
      "A value is trying to be set on a copy of a slice from a DataFrame.\n",
      "Try using .loc[row_indexer,col_indexer] = value instead\n",
      "\n",
      "See the caveats in the documentation: https://pandas.pydata.org/pandas-docs/stable/user_guide/indexing.html#returning-a-view-versus-a-copy\n",
      "  df.loc[:,'text_change_length'] = df['text_change'].apply(lambda x:len(x))\n",
      "/tmp/ipykernel_20/258444671.py:3: SettingWithCopyWarning: \n",
      "A value is trying to be set on a copy of a slice from a DataFrame.\n",
      "Try using .loc[row_indexer,col_indexer] = value instead\n",
      "\n",
      "See the caveats in the documentation: https://pandas.pydata.org/pandas-docs/stable/user_guide/indexing.html#returning-a-view-versus-a-copy\n",
      "  df.loc[:,'activity_c']=df['activity'].apply(lambda x:\"move\" if \"Move\" in x else x )\n"
     ]
    }
   ],
   "source": [
    "X_test=pre_pro(test_m)"
   ]
  },
  {
   "cell_type": "code",
   "execution_count": 21,
   "id": "9ac672e0",
   "metadata": {
    "execution": {
     "iopub.execute_input": "2023-11-24T10:39:53.091724Z",
     "iopub.status.busy": "2023-11-24T10:39:53.091290Z",
     "iopub.status.idle": "2023-11-24T10:39:53.097203Z",
     "shell.execute_reply": "2023-11-24T10:39:53.095840Z"
    },
    "papermill": {
     "duration": 0.023226,
     "end_time": "2023-11-24T10:39:53.099846",
     "exception": false,
     "start_time": "2023-11-24T10:39:53.076620",
     "status": "completed"
    },
    "tags": []
   },
   "outputs": [],
   "source": [
    "import warnings\n",
    "warnings.filterwarnings(\"ignore\")"
   ]
  },
  {
   "cell_type": "code",
   "execution_count": 22,
   "id": "7fd5b100",
   "metadata": {
    "execution": {
     "iopub.execute_input": "2023-11-24T10:39:53.127776Z",
     "iopub.status.busy": "2023-11-24T10:39:53.127277Z",
     "iopub.status.idle": "2023-11-24T10:39:53.306329Z",
     "shell.execute_reply": "2023-11-24T10:39:53.304687Z"
    },
    "papermill": {
     "duration": 0.19664,
     "end_time": "2023-11-24T10:39:53.309409",
     "exception": false,
     "start_time": "2023-11-24T10:39:53.112769",
     "status": "completed"
    },
    "tags": []
   },
   "outputs": [],
   "source": [
    "X_test['down_event']=pd.to_numeric(X_test['down_event'])\n",
    "X_test['up_event']=pd.to_numeric(X_test['up_event'])\n",
    "X_test['activity_c']=pd.to_numeric(X_test['activity_c'])"
   ]
  },
  {
   "cell_type": "code",
   "execution_count": 23,
   "id": "28c0d9e8",
   "metadata": {
    "execution": {
     "iopub.execute_input": "2023-11-24T10:39:53.338039Z",
     "iopub.status.busy": "2023-11-24T10:39:53.337509Z",
     "iopub.status.idle": "2023-11-24T10:39:55.504589Z",
     "shell.execute_reply": "2023-11-24T10:39:55.503261Z"
    },
    "papermill": {
     "duration": 2.184814,
     "end_time": "2023-11-24T10:39:55.507598",
     "exception": false,
     "start_time": "2023-11-24T10:39:53.322784",
     "status": "completed"
    },
    "tags": []
   },
   "outputs": [],
   "source": [
    "shift_vars=['down_time', 'up_time', 'action_time', 'down_event',\n",
    "       'up_event', 'cursor_position', 'word_count', 'text_change_length',\n",
    "       'activity_c']\n",
    "\n",
    "for i in shift_vars:\n",
    "    #for j in range(0,60):\n",
    "    X_train[i+\"_\" +\"1\"]=X_train[i].shift(1)\n",
    "    X_train[i+\"_\" +\"2\"]=X_train[i].shift(2)\n",
    "    X_train[i+\"_\" +\"3\"]=X_train[i].shift(3)"
   ]
  },
  {
   "cell_type": "code",
   "execution_count": 24,
   "id": "d639ded9",
   "metadata": {
    "execution": {
     "iopub.execute_input": "2023-11-24T10:39:55.604868Z",
     "iopub.status.busy": "2023-11-24T10:39:55.603600Z",
     "iopub.status.idle": "2023-11-24T10:39:55.690574Z",
     "shell.execute_reply": "2023-11-24T10:39:55.689357Z"
    },
    "papermill": {
     "duration": 0.104467,
     "end_time": "2023-11-24T10:39:55.693487",
     "exception": false,
     "start_time": "2023-11-24T10:39:55.589020",
     "status": "completed"
    },
    "tags": []
   },
   "outputs": [],
   "source": [
    "for i in shift_vars:\n",
    "    #for j in range(0,60):\n",
    "    X_test[i+\"_\" +\"1\"]=X_test[i].shift(1)\n",
    "    X_test[i+\"_\" +\"2\"]=X_test[i].shift(2)\n",
    "    X_test[i+\"_\" +\"3\"]=X_test[i].shift(3)"
   ]
  },
  {
   "cell_type": "code",
   "execution_count": 25,
   "id": "c438b499",
   "metadata": {
    "execution": {
     "iopub.execute_input": "2023-11-24T10:39:55.721632Z",
     "iopub.status.busy": "2023-11-24T10:39:55.721244Z",
     "iopub.status.idle": "2023-11-24T10:39:55.728472Z",
     "shell.execute_reply": "2023-11-24T10:39:55.726966Z"
    },
    "papermill": {
     "duration": 0.024413,
     "end_time": "2023-11-24T10:39:55.730795",
     "exception": false,
     "start_time": "2023-11-24T10:39:55.706382",
     "status": "completed"
    },
    "tags": []
   },
   "outputs": [],
   "source": [
    "model_vars=[ 'event_id', 'down_time', 'up_time', 'action_time',\n",
    "       'down_event', 'up_event', 'cursor_position',\n",
    "       'word_count', 'text_change_length', 'activity_c',\n",
    "       'down_time_1', 'down_time_2', 'down_time_3', 'up_time_1', 'up_time_2',\n",
    "       'up_time_3', 'action_time_1', 'action_time_2', 'action_time_3',\n",
    "       'down_event_1', 'down_event_2', 'down_event_3', 'up_event_1',\n",
    "       'up_event_2', 'up_event_3', 'cursor_position_1', 'cursor_position_2',\n",
    "       'cursor_position_3', 'word_count_1', 'word_count_2', 'word_count_3',\n",
    "       'text_change_length_1', 'text_change_length_2', 'text_change_length_3',\n",
    "       'activity_c_1', 'activity_c_2', 'activity_c_3']"
   ]
  },
  {
   "cell_type": "code",
   "execution_count": 26,
   "id": "0074b780",
   "metadata": {
    "execution": {
     "iopub.execute_input": "2023-11-24T10:39:55.758801Z",
     "iopub.status.busy": "2023-11-24T10:39:55.758349Z",
     "iopub.status.idle": "2023-11-24T10:39:58.998577Z",
     "shell.execute_reply": "2023-11-24T10:39:58.997326Z"
    },
    "papermill": {
     "duration": 3.25811,
     "end_time": "2023-11-24T10:39:59.001818",
     "exception": false,
     "start_time": "2023-11-24T10:39:55.743708",
     "status": "completed"
    },
    "tags": []
   },
   "outputs": [],
   "source": [
    "for i in model_vars:\n",
    "    X_train.loc[:,i]=X_train[i].astype(\"float\")\n",
    "    X_test.loc[:,i]=X_test[i].astype(\"float\")"
   ]
  },
  {
   "cell_type": "code",
   "execution_count": 27,
   "id": "32e9c63d",
   "metadata": {
    "execution": {
     "iopub.execute_input": "2023-11-24T10:39:59.029911Z",
     "iopub.status.busy": "2023-11-24T10:39:59.029465Z",
     "iopub.status.idle": "2023-11-24T10:41:47.991571Z",
     "shell.execute_reply": "2023-11-24T10:41:47.989761Z"
    },
    "papermill": {
     "duration": 108.994478,
     "end_time": "2023-11-24T10:41:48.009361",
     "exception": false,
     "start_time": "2023-11-24T10:39:59.014883",
     "status": "completed"
    },
    "tags": []
   },
   "outputs": [
    {
     "data": {
      "text/html": [
       "<style>#sk-container-id-1 {color: black;background-color: white;}#sk-container-id-1 pre{padding: 0;}#sk-container-id-1 div.sk-toggleable {background-color: white;}#sk-container-id-1 label.sk-toggleable__label {cursor: pointer;display: block;width: 100%;margin-bottom: 0;padding: 0.3em;box-sizing: border-box;text-align: center;}#sk-container-id-1 label.sk-toggleable__label-arrow:before {content: \"▸\";float: left;margin-right: 0.25em;color: #696969;}#sk-container-id-1 label.sk-toggleable__label-arrow:hover:before {color: black;}#sk-container-id-1 div.sk-estimator:hover label.sk-toggleable__label-arrow:before {color: black;}#sk-container-id-1 div.sk-toggleable__content {max-height: 0;max-width: 0;overflow: hidden;text-align: left;background-color: #f0f8ff;}#sk-container-id-1 div.sk-toggleable__content pre {margin: 0.2em;color: black;border-radius: 0.25em;background-color: #f0f8ff;}#sk-container-id-1 input.sk-toggleable__control:checked~div.sk-toggleable__content {max-height: 200px;max-width: 100%;overflow: auto;}#sk-container-id-1 input.sk-toggleable__control:checked~label.sk-toggleable__label-arrow:before {content: \"▾\";}#sk-container-id-1 div.sk-estimator input.sk-toggleable__control:checked~label.sk-toggleable__label {background-color: #d4ebff;}#sk-container-id-1 div.sk-label input.sk-toggleable__control:checked~label.sk-toggleable__label {background-color: #d4ebff;}#sk-container-id-1 input.sk-hidden--visually {border: 0;clip: rect(1px 1px 1px 1px);clip: rect(1px, 1px, 1px, 1px);height: 1px;margin: -1px;overflow: hidden;padding: 0;position: absolute;width: 1px;}#sk-container-id-1 div.sk-estimator {font-family: monospace;background-color: #f0f8ff;border: 1px dotted black;border-radius: 0.25em;box-sizing: border-box;margin-bottom: 0.5em;}#sk-container-id-1 div.sk-estimator:hover {background-color: #d4ebff;}#sk-container-id-1 div.sk-parallel-item::after {content: \"\";width: 100%;border-bottom: 1px solid gray;flex-grow: 1;}#sk-container-id-1 div.sk-label:hover label.sk-toggleable__label {background-color: #d4ebff;}#sk-container-id-1 div.sk-serial::before {content: \"\";position: absolute;border-left: 1px solid gray;box-sizing: border-box;top: 0;bottom: 0;left: 50%;z-index: 0;}#sk-container-id-1 div.sk-serial {display: flex;flex-direction: column;align-items: center;background-color: white;padding-right: 0.2em;padding-left: 0.2em;position: relative;}#sk-container-id-1 div.sk-item {position: relative;z-index: 1;}#sk-container-id-1 div.sk-parallel {display: flex;align-items: stretch;justify-content: center;background-color: white;position: relative;}#sk-container-id-1 div.sk-item::before, #sk-container-id-1 div.sk-parallel-item::before {content: \"\";position: absolute;border-left: 1px solid gray;box-sizing: border-box;top: 0;bottom: 0;left: 50%;z-index: -1;}#sk-container-id-1 div.sk-parallel-item {display: flex;flex-direction: column;z-index: 1;position: relative;background-color: white;}#sk-container-id-1 div.sk-parallel-item:first-child::after {align-self: flex-end;width: 50%;}#sk-container-id-1 div.sk-parallel-item:last-child::after {align-self: flex-start;width: 50%;}#sk-container-id-1 div.sk-parallel-item:only-child::after {width: 0;}#sk-container-id-1 div.sk-dashed-wrapped {border: 1px dashed gray;margin: 0 0.4em 0.5em 0.4em;box-sizing: border-box;padding-bottom: 0.4em;background-color: white;}#sk-container-id-1 div.sk-label label {font-family: monospace;font-weight: bold;display: inline-block;line-height: 1.2em;}#sk-container-id-1 div.sk-label-container {text-align: center;}#sk-container-id-1 div.sk-container {/* jupyter's `normalize.less` sets `[hidden] { display: none; }` but bootstrap.min.css set `[hidden] { display: none !important; }` so we also need the `!important` here to be able to override the default hidden behavior on the sphinx rendered scikit-learn.org. See: https://github.com/scikit-learn/scikit-learn/issues/21755 */display: inline-block !important;position: relative;}#sk-container-id-1 div.sk-text-repr-fallback {display: none;}</style><div id=\"sk-container-id-1\" class=\"sk-top-container\"><div class=\"sk-text-repr-fallback\"><pre>LGBMRegressor()</pre><b>In a Jupyter environment, please rerun this cell to show the HTML representation or trust the notebook. <br />On GitHub, the HTML representation is unable to render, please try loading this page with nbviewer.org.</b></div><div class=\"sk-container\" hidden><div class=\"sk-item\"><div class=\"sk-estimator sk-toggleable\"><input class=\"sk-toggleable__control sk-hidden--visually\" id=\"sk-estimator-id-1\" type=\"checkbox\" checked><label for=\"sk-estimator-id-1\" class=\"sk-toggleable__label sk-toggleable__label-arrow\">LGBMRegressor</label><div class=\"sk-toggleable__content\"><pre>LGBMRegressor()</pre></div></div></div></div></div>"
      ],
      "text/plain": [
       "LGBMRegressor()"
      ]
     },
     "execution_count": 27,
     "metadata": {},
     "output_type": "execute_result"
    }
   ],
   "source": [
    "cats=['down_event', 'up_event', 'activity_c',\n",
    "       'down_event_1', 'down_event_2', 'down_event_3', 'up_event_1',\n",
    "       'up_event_2', 'up_event_3','text_change_length_1', 'text_change_length_2', \n",
    "       'text_change_length_3','activity_c_1', 'activity_c_2', 'activity_c_3']\n",
    "lgb=LGBMRegressor()\n",
    "lgb.fit(X_train[model_vars], X_train['score'],\n",
    "        eval_set=[(X_test[model_vars], X_test['score'])],\n",
    "        categorical_feature=cats,\n",
    "        verbose=0,\n",
    "        early_stopping_rounds=8)"
   ]
  },
  {
   "cell_type": "code",
   "execution_count": 28,
   "id": "18a47e8c",
   "metadata": {
    "execution": {
     "iopub.execute_input": "2023-11-24T10:41:48.039428Z",
     "iopub.status.busy": "2023-11-24T10:41:48.038934Z",
     "iopub.status.idle": "2023-11-24T10:41:49.081424Z",
     "shell.execute_reply": "2023-11-24T10:41:49.080168Z"
    },
    "papermill": {
     "duration": 1.060899,
     "end_time": "2023-11-24T10:41:49.084334",
     "exception": false,
     "start_time": "2023-11-24T10:41:48.023435",
     "status": "completed"
    },
    "tags": []
   },
   "outputs": [
    {
     "data": {
      "text/plain": [
       "0.5062230373943213"
      ]
     },
     "execution_count": 28,
     "metadata": {},
     "output_type": "execute_result"
    }
   ],
   "source": [
    "mean_squared_error(X_test['score'],lgb.predict(X_test[model_vars]))"
   ]
  },
  {
   "cell_type": "code",
   "execution_count": 29,
   "id": "8281f447",
   "metadata": {
    "execution": {
     "iopub.execute_input": "2023-11-24T10:41:49.116692Z",
     "iopub.status.busy": "2023-11-24T10:41:49.116242Z",
     "iopub.status.idle": "2023-11-24T10:41:49.146818Z",
     "shell.execute_reply": "2023-11-24T10:41:49.145497Z"
    },
    "papermill": {
     "duration": 0.049648,
     "end_time": "2023-11-24T10:41:49.149439",
     "exception": false,
     "start_time": "2023-11-24T10:41:49.099791",
     "status": "completed"
    },
    "tags": []
   },
   "outputs": [],
   "source": [
    "X_test_v=pre_pro(test)\n",
    "\n",
    "for i in shift_vars:\n",
    "    #for j in range(0,60):\n",
    "    X_test_v[i+\"_\" +\"1\"]=X_test_v[i].shift(1)\n",
    "    X_test_v[i+\"_\" +\"2\"]=X_test_v[i].shift(2)\n",
    "    X_test_v[i+\"_\" +\"3\"]=X_test_v[i].shift(3)"
   ]
  },
  {
   "cell_type": "code",
   "execution_count": 30,
   "id": "5e3223cf",
   "metadata": {
    "execution": {
     "iopub.execute_input": "2023-11-24T10:41:49.179603Z",
     "iopub.status.busy": "2023-11-24T10:41:49.179178Z",
     "iopub.status.idle": "2023-11-24T10:41:49.212828Z",
     "shell.execute_reply": "2023-11-24T10:41:49.211387Z"
    },
    "papermill": {
     "duration": 0.052573,
     "end_time": "2023-11-24T10:41:49.216078",
     "exception": false,
     "start_time": "2023-11-24T10:41:49.163505",
     "status": "completed"
    },
    "tags": []
   },
   "outputs": [],
   "source": [
    "X_test_v['down_event']=pd.to_numeric(X_test_v['down_event'])\n",
    "X_test_v['down_event_1']=pd.to_numeric(X_test_v['down_event_1'])\n",
    "X_test_v['down_event_2']=pd.to_numeric(X_test_v['down_event_2'])\n",
    "X_test_v['down_event_3']=pd.to_numeric(X_test_v['down_event_3'])\n",
    "\n",
    "X_test_v['up_event']=pd.to_numeric(X_test_v['up_event'])\n",
    "X_test_v['up_event_1']=pd.to_numeric(X_test_v['up_event_1'])\n",
    "X_test_v['up_event_2']=pd.to_numeric(X_test_v['up_event_2'])\n",
    "X_test_v['up_event_3']=pd.to_numeric(X_test_v['up_event_3'])\n",
    "\n",
    "X_test_v['activity_c']=pd.to_numeric(X_test_v['activity_c'])\n",
    "X_test_v['activity_c_1']=pd.to_numeric(X_test_v['activity_c_1'])\n",
    "X_test_v['activity_c_2']=pd.to_numeric(X_test_v['activity_c_2'])\n",
    "X_test_v['activity_c_3']=pd.to_numeric(X_test_v['activity_c_3'])\n",
    "\n",
    "for i in model_vars:\n",
    "    X_test_v.loc[:,i]=X_test_v[i].astype(\"float\")"
   ]
  },
  {
   "cell_type": "code",
   "execution_count": 31,
   "id": "26c6aa1c",
   "metadata": {
    "execution": {
     "iopub.execute_input": "2023-11-24T10:41:49.246992Z",
     "iopub.status.busy": "2023-11-24T10:41:49.246563Z",
     "iopub.status.idle": "2023-11-24T10:41:49.258182Z",
     "shell.execute_reply": "2023-11-24T10:41:49.256831Z"
    },
    "papermill": {
     "duration": 0.030941,
     "end_time": "2023-11-24T10:41:49.261269",
     "exception": false,
     "start_time": "2023-11-24T10:41:49.230328",
     "status": "completed"
    },
    "tags": []
   },
   "outputs": [],
   "source": [
    "X_test_v['score']=lgb.predict(X_test_v[model_vars])"
   ]
  },
  {
   "cell_type": "code",
   "execution_count": 32,
   "id": "aee2ea69",
   "metadata": {
    "execution": {
     "iopub.execute_input": "2023-11-24T10:41:49.293510Z",
     "iopub.status.busy": "2023-11-24T10:41:49.293090Z",
     "iopub.status.idle": "2023-11-24T10:41:49.299650Z",
     "shell.execute_reply": "2023-11-24T10:41:49.298141Z"
    },
    "papermill": {
     "duration": 0.026309,
     "end_time": "2023-11-24T10:41:49.302690",
     "exception": false,
     "start_time": "2023-11-24T10:41:49.276381",
     "status": "completed"
    },
    "tags": []
   },
   "outputs": [],
   "source": [
    "# import math\n",
    "# def fit_lgb(params):\n",
    "#     lgb=LGBMRegressor(\n",
    "#         n_estimators=int(params['n_estimators']),\n",
    "#         num_leaves=int(params['num_leaves']),\n",
    "#         max_depth=int(params['max_depth']),\n",
    "#         min_child_samples=int(params['min_child_samples']),\n",
    "#         subsample=params['subsample'],\n",
    "#         colsample_bytree=params['colsample_bytree'],\n",
    "#         scale_pos_weight=params['scale_pos_weight'],\n",
    "#         learning_rate=params['learning_rate'],\n",
    "#         reg_alpha=params['reg_alpha'],\n",
    "#         reg_lambda=params['reg_lambda'],\n",
    "#         random_state=0\n",
    "#     )\n",
    "    \n",
    "#     lgb.fit(X=X_train[model_vars],\n",
    "#             y=X_train['score'],\n",
    "#             categorical_feature=cats)\n",
    "    \n",
    "#     y_pred =lgb.predict(X_test[model_vars])\n",
    "    \n",
    "    \n",
    "#     try:\n",
    "#         mse=mean_squared_error(X_test['score'],y_pred)\n",
    "#     except:\n",
    "#         mse=0\n",
    "    \n",
    "#     loss=mse\n",
    "        \n",
    "#     return {'loss':loss,'params':params,'status':STATUS_OK,'model':lgb}"
   ]
  },
  {
   "cell_type": "code",
   "execution_count": 33,
   "id": "0361fb87",
   "metadata": {
    "execution": {
     "iopub.execute_input": "2023-11-24T10:41:49.333540Z",
     "iopub.status.busy": "2023-11-24T10:41:49.333130Z",
     "iopub.status.idle": "2023-11-24T10:41:49.339397Z",
     "shell.execute_reply": "2023-11-24T10:41:49.337986Z"
    },
    "papermill": {
     "duration": 0.024739,
     "end_time": "2023-11-24T10:41:49.342020",
     "exception": false,
     "start_time": "2023-11-24T10:41:49.317281",
     "status": "completed"
    },
    "tags": []
   },
   "outputs": [],
   "source": [
    "# space= {\n",
    "#     'n_estimators':hp.quniform('n_estimators',100,1000,100),\n",
    "#     'num_leaves':hp.quniform('num_leaves',10,100,1),\n",
    "#     'max_depth':hp.quniform('max_depth',5,25,1),\n",
    "#     'min_child_samples':hp.quniform('min_child_samples',10,500,5),\n",
    "#     'subsample':hp.uniform('subsample',0.0,1.0),\n",
    "#     'colsample_bytree':hp.uniform('colsample_bytree',0.3,1.0),\n",
    "#     'scale_pos_weight':hp.quniform('scale_pos_weight',1,40,1),\n",
    "#     'learning_rate':hp.loguniform('learning_rate',math.log(0.001),math.log(4)),\n",
    "#     'reg_alpha':hp.uniform('reg_alpha',0.0,1.0),\n",
    "#     'reg_lambda':hp.uniform('reg_lambda',0.0,1.0)\n",
    "# }\n",
    "\n",
    "# max_evals=50\n",
    "\n",
    "# trials=Trials()\n",
    "\n",
    "# best_params =fmin(\n",
    "#      fn=fit_lgb,\n",
    "#      space=space,\n",
    "#      algo=tpe.suggest,\n",
    "#      max_evals=max_evals,\n",
    "#      trials=trials\n",
    "# )\n",
    "\n",
    "# # fit model with the optmized parameters\n",
    "# results= fit_lgb(best_params)\n",
    "# mse_opt=results['loss']\n",
    "\n",
    "# print(f'R2 (test data,,optimized): {mse_opt:.1%}')"
   ]
  },
  {
   "cell_type": "code",
   "execution_count": 34,
   "id": "9e131e55",
   "metadata": {
    "execution": {
     "iopub.execute_input": "2023-11-24T10:41:49.373844Z",
     "iopub.status.busy": "2023-11-24T10:41:49.373444Z",
     "iopub.status.idle": "2023-11-24T10:41:49.377576Z",
     "shell.execute_reply": "2023-11-24T10:41:49.376598Z"
    },
    "papermill": {
     "duration": 0.023202,
     "end_time": "2023-11-24T10:41:49.380239",
     "exception": false,
     "start_time": "2023-11-24T10:41:49.357037",
     "status": "completed"
    },
    "tags": []
   },
   "outputs": [],
   "source": [
    "#joblib.dump(results['model'],\"lgb_opt_11182023\")"
   ]
  },
  {
   "cell_type": "code",
   "execution_count": 35,
   "id": "d299e1da",
   "metadata": {
    "execution": {
     "iopub.execute_input": "2023-11-24T10:41:49.412586Z",
     "iopub.status.busy": "2023-11-24T10:41:49.411767Z",
     "iopub.status.idle": "2023-11-24T10:41:49.416456Z",
     "shell.execute_reply": "2023-11-24T10:41:49.415150Z"
    },
    "papermill": {
     "duration": 0.024843,
     "end_time": "2023-11-24T10:41:49.419192",
     "exception": false,
     "start_time": "2023-11-24T10:41:49.394349",
     "status": "completed"
    },
    "tags": []
   },
   "outputs": [],
   "source": [
    "#lgb_opt_11182023= joblib.load(\"/kaggle/input/model-lgb/lgb_opt_11182023\")"
   ]
  },
  {
   "cell_type": "code",
   "execution_count": 36,
   "id": "4a2d8702",
   "metadata": {
    "execution": {
     "iopub.execute_input": "2023-11-24T10:41:49.449410Z",
     "iopub.status.busy": "2023-11-24T10:41:49.448993Z",
     "iopub.status.idle": "2023-11-24T10:41:49.471066Z",
     "shell.execute_reply": "2023-11-24T10:41:49.469360Z"
    },
    "papermill": {
     "duration": 0.040828,
     "end_time": "2023-11-24T10:41:49.474104",
     "exception": false,
     "start_time": "2023-11-24T10:41:49.433276",
     "status": "completed"
    },
    "tags": []
   },
   "outputs": [
    {
     "name": "stdout",
     "output_type": "stream",
     "text": [
      "yaba daba\n",
      "dooooooo\n"
     ]
    }
   ],
   "source": [
    "try:\n",
    "    # Code for generating submission file\n",
    "    prediction=X_test_v.groupby('id').tail(1)[['id','score']]#X_test_v.groupby('id').agg({'score':\"median\"}).reset_index()\n",
    "    print(\"yaba daba\")\n",
    "    prediction['score'] = np.clip(prediction['score'], a_min=0.5, a_max=6.0)\n",
    "    print(\"dooooooo\")\n",
    "    prediction['id']=prediction['id'].astype(\"str\")\n",
    "    prediction['score']=prediction['score'].astype(\"float\")\n",
    "    prediction.to_csv('submission.csv', index=False)\n",
    "except Exception as e:\n",
    "    print(f\"Error during submission: {e}\")\n"
   ]
  },
  {
   "cell_type": "code",
   "execution_count": null,
   "id": "48343066",
   "metadata": {
    "papermill": {
     "duration": 0.014509,
     "end_time": "2023-11-24T10:41:49.502688",
     "exception": false,
     "start_time": "2023-11-24T10:41:49.488179",
     "status": "completed"
    },
    "tags": []
   },
   "outputs": [],
   "source": []
  }
 ],
 "metadata": {
  "kaggle": {
   "accelerator": "none",
   "dataSources": [
    {
     "databundleVersionId": 6678907,
     "sourceId": 59291,
     "sourceType": "competition"
    },
    {
     "datasetId": 3990952,
     "sourceId": 6949043,
     "sourceType": "datasetVersion"
    },
    {
     "datasetId": 4022686,
     "sourceId": 6997801,
     "sourceType": "datasetVersion"
    }
   ],
   "dockerImageVersionId": 30579,
   "isGpuEnabled": false,
   "isInternetEnabled": false,
   "language": "python",
   "sourceType": "notebook"
  },
  "kernelspec": {
   "display_name": "Python 3",
   "language": "python",
   "name": "python3"
  },
  "language_info": {
   "codemirror_mode": {
    "name": "ipython",
    "version": 3
   },
   "file_extension": ".py",
   "mimetype": "text/x-python",
   "name": "python",
   "nbconvert_exporter": "python",
   "pygments_lexer": "ipython3",
   "version": "3.10.12"
  },
  "papermill": {
   "default_parameters": {},
   "duration": 167.938096,
   "end_time": "2023-11-24T10:41:51.247208",
   "environment_variables": {},
   "exception": null,
   "input_path": "__notebook__.ipynb",
   "output_path": "__notebook__.ipynb",
   "parameters": {},
   "start_time": "2023-11-24T10:39:03.309112",
   "version": "2.4.0"
  }
 },
 "nbformat": 4,
 "nbformat_minor": 5
}
