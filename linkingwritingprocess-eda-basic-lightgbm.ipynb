{
 "cells": [
  {
   "cell_type": "markdown",
   "id": "cea542ae",
   "metadata": {
    "papermill": {
     "duration": 0.012703,
     "end_time": "2023-11-17T19:45:53.661673",
     "exception": false,
     "start_time": "2023-11-17T19:45:53.648970",
     "status": "completed"
    },
    "tags": []
   },
   "source": [
    "# Basic EDA\n",
    "### Get score level analytics on Numerical Variables available"
   ]
  },
  {
   "cell_type": "code",
   "execution_count": 1,
   "id": "53df404a",
   "metadata": {
    "execution": {
     "iopub.execute_input": "2023-11-17T19:45:53.690866Z",
     "iopub.status.busy": "2023-11-17T19:45:53.690351Z",
     "iopub.status.idle": "2023-11-17T19:45:56.548055Z",
     "shell.execute_reply": "2023-11-17T19:45:56.546529Z"
    },
    "papermill": {
     "duration": 2.874955,
     "end_time": "2023-11-17T19:45:56.551853",
     "exception": false,
     "start_time": "2023-11-17T19:45:53.676898",
     "status": "completed"
    },
    "tags": []
   },
   "outputs": [],
   "source": [
    "import matplotlib.pyplot as plt\n",
    "import seaborn as sns\n",
    "# Sometimes we want to see more than a single output in the cell below command enables that\n",
    "from IPython.core.interactiveshell import InteractiveShell\n",
    "InteractiveShell.ast_node_interactivity=\"all\""
   ]
  },
  {
   "cell_type": "code",
   "execution_count": 2,
   "id": "27e6cd59",
   "metadata": {
    "execution": {
     "iopub.execute_input": "2023-11-17T19:45:56.578733Z",
     "iopub.status.busy": "2023-11-17T19:45:56.578217Z",
     "iopub.status.idle": "2023-11-17T19:45:58.353944Z",
     "shell.execute_reply": "2023-11-17T19:45:58.352424Z"
    },
    "papermill": {
     "duration": 1.792557,
     "end_time": "2023-11-17T19:45:58.356848",
     "exception": false,
     "start_time": "2023-11-17T19:45:56.564291",
     "status": "completed"
    },
    "tags": []
   },
   "outputs": [],
   "source": [
    "from lightgbm import LGBMRegressor"
   ]
  },
  {
   "cell_type": "code",
   "execution_count": 3,
   "id": "683cdf81",
   "metadata": {
    "execution": {
     "iopub.execute_input": "2023-11-17T19:45:58.382886Z",
     "iopub.status.busy": "2023-11-17T19:45:58.382214Z",
     "iopub.status.idle": "2023-11-17T19:45:58.389078Z",
     "shell.execute_reply": "2023-11-17T19:45:58.387707Z"
    },
    "papermill": {
     "duration": 0.023083,
     "end_time": "2023-11-17T19:45:58.391876",
     "exception": false,
     "start_time": "2023-11-17T19:45:58.368793",
     "status": "completed"
    },
    "tags": []
   },
   "outputs": [],
   "source": [
    "import warnings\n",
    "warnings.filterwarnings(\"ignore\")"
   ]
  },
  {
   "cell_type": "code",
   "execution_count": 4,
   "id": "e3c911cb",
   "metadata": {
    "_cell_guid": "b1076dfc-b9ad-4769-8c92-a6c4dae69d19",
    "_uuid": "8f2839f25d086af736a60e9eeb907d3b93b6e0e5",
    "execution": {
     "iopub.execute_input": "2023-11-17T19:45:58.417366Z",
     "iopub.status.busy": "2023-11-17T19:45:58.416868Z",
     "iopub.status.idle": "2023-11-17T19:45:58.433588Z",
     "shell.execute_reply": "2023-11-17T19:45:58.430910Z"
    },
    "papermill": {
     "duration": 0.03263,
     "end_time": "2023-11-17T19:45:58.436185",
     "exception": false,
     "start_time": "2023-11-17T19:45:58.403555",
     "status": "completed"
    },
    "tags": []
   },
   "outputs": [
    {
     "name": "stdout",
     "output_type": "stream",
     "text": [
      "/kaggle/input/cat-dict/cat_dict\n",
      "/kaggle/input/linking-writing-processes-to-writing-quality/sample_submission.csv\n",
      "/kaggle/input/linking-writing-processes-to-writing-quality/test_logs.csv\n",
      "/kaggle/input/linking-writing-processes-to-writing-quality/train_scores.csv\n",
      "/kaggle/input/linking-writing-processes-to-writing-quality/train_logs.csv\n"
     ]
    }
   ],
   "source": [
    "import numpy as np # linear algebra\n",
    "import pandas as pd # data processing, CSV file I/O (e.g. pd.read_csv)\n",
    "\n",
    "import os\n",
    "for dirname, _, filenames in os.walk('/kaggle/input'):\n",
    "    for filename in filenames:\n",
    "        print(os.path.join(dirname, filename))"
   ]
  },
  {
   "cell_type": "code",
   "execution_count": 5,
   "id": "b5276f3a",
   "metadata": {
    "execution": {
     "iopub.execute_input": "2023-11-17T19:45:58.462449Z",
     "iopub.status.busy": "2023-11-17T19:45:58.461906Z",
     "iopub.status.idle": "2023-11-17T19:46:16.177292Z",
     "shell.execute_reply": "2023-11-17T19:46:16.175879Z"
    },
    "papermill": {
     "duration": 17.732079,
     "end_time": "2023-11-17T19:46:16.180437",
     "exception": false,
     "start_time": "2023-11-17T19:45:58.448358",
     "status": "completed"
    },
    "tags": []
   },
   "outputs": [],
   "source": [
    "train = pd.read_csv(\"/kaggle/input/linking-writing-processes-to-writing-quality/train_logs.csv\")\n",
    "test = pd.read_csv(\"/kaggle/input/linking-writing-processes-to-writing-quality/test_logs.csv\")\n",
    "train_scores = pd.read_csv(\"/kaggle/input/linking-writing-processes-to-writing-quality/train_scores.csv\")\n",
    "sample_submission = pd.read_csv(\"/kaggle/input/linking-writing-processes-to-writing-quality/sample_submission.csv\")"
   ]
  },
  {
   "cell_type": "code",
   "execution_count": 6,
   "id": "2540feaf",
   "metadata": {
    "execution": {
     "iopub.execute_input": "2023-11-17T19:46:16.206353Z",
     "iopub.status.busy": "2023-11-17T19:46:16.205916Z",
     "iopub.status.idle": "2023-11-17T19:46:16.526696Z",
     "shell.execute_reply": "2023-11-17T19:46:16.525538Z"
    },
    "papermill": {
     "duration": 0.336257,
     "end_time": "2023-11-17T19:46:16.528969",
     "exception": false,
     "start_time": "2023-11-17T19:46:16.192712",
     "status": "completed"
    },
    "tags": []
   },
   "outputs": [
    {
     "data": {
      "image/png": "[encoded data removed]",
      "text/plain": [
       "<Figure size 640x480 with 1 Axes>"
      ]
     },
     "metadata": {},
     "output_type": "display_data"
    }
   ],
   "source": [
    "train_scores.score.hist()\n",
    "plt.show();"
   ]
  },
  {
   "cell_type": "code",
   "execution_count": 7,
   "id": "b80013db",
   "metadata": {
    "execution": {
     "iopub.execute_input": "2023-11-17T19:46:16.556295Z",
     "iopub.status.busy": "2023-11-17T19:46:16.554919Z",
     "iopub.status.idle": "2023-11-17T19:46:16.901591Z",
     "shell.execute_reply": "2023-11-17T19:46:16.900125Z"
    },
    "papermill": {
     "duration": 0.363313,
     "end_time": "2023-11-17T19:46:16.904475",
     "exception": false,
     "start_time": "2023-11-17T19:46:16.541162",
     "status": "completed"
    },
    "tags": []
   },
   "outputs": [],
   "source": [
    "train['id'] = train['id'].astype(str)\n",
    "train_scores['id'] = train_scores['id'].astype(str)"
   ]
  },
  {
   "cell_type": "code",
   "execution_count": 8,
   "id": "3a1754e8",
   "metadata": {
    "execution": {
     "iopub.execute_input": "2023-11-17T19:46:16.930910Z",
     "iopub.status.busy": "2023-11-17T19:46:16.930525Z",
     "iopub.status.idle": "2023-11-17T19:46:19.810856Z",
     "shell.execute_reply": "2023-11-17T19:46:19.809623Z"
    },
    "papermill": {
     "duration": 2.897711,
     "end_time": "2023-11-17T19:46:19.814669",
     "exception": false,
     "start_time": "2023-11-17T19:46:16.916958",
     "status": "completed"
    },
    "tags": []
   },
   "outputs": [],
   "source": [
    "# Add the score\n",
    "train=train.merge(train_scores,left_on =\"id\",right_on=\"id\",how=\"left\")"
   ]
  },
  {
   "cell_type": "markdown",
   "id": "118764c4",
   "metadata": {
    "papermill": {
     "duration": 0.013596,
     "end_time": "2023-11-17T19:46:19.841228",
     "exception": false,
     "start_time": "2023-11-17T19:46:19.827632",
     "status": "completed"
    },
    "tags": []
   },
   "source": [
    "# Averages on Action time"
   ]
  },
  {
   "cell_type": "code",
   "execution_count": 9,
   "id": "e0a9deef",
   "metadata": {
    "execution": {
     "iopub.execute_input": "2023-11-17T19:46:19.869534Z",
     "iopub.status.busy": "2023-11-17T19:46:19.869145Z",
     "iopub.status.idle": "2023-11-17T19:46:20.453246Z",
     "shell.execute_reply": "2023-11-17T19:46:20.451735Z"
    },
    "papermill": {
     "duration": 0.602164,
     "end_time": "2023-11-17T19:46:20.456342",
     "exception": false,
     "start_time": "2023-11-17T19:46:19.854178",
     "status": "completed"
    },
    "tags": []
   },
   "outputs": [
    {
     "data": {
      "text/html": [
       "<div>\n",
       "<style scoped>\n",
       "    .dataframe tbody tr th:only-of-type {\n",
       "        vertical-align: middle;\n",
       "    }\n",
       "\n",
       "    .dataframe tbody tr th {\n",
       "        vertical-align: top;\n",
       "    }\n",
       "\n",
       "    .dataframe thead tr th {\n",
       "        text-align: left;\n",
       "    }\n",
       "\n",
       "    .dataframe thead tr:last-of-type th {\n",
       "        text-align: right;\n",
       "    }\n",
       "</style>\n",
       "<table border=\"1\" class=\"dataframe\">\n",
       "  <thead>\n",
       "    <tr>\n",
       "      <th></th>\n",
       "      <th>action_time</th>\n",
       "      <th colspan=\"3\" halign=\"left\">word_count</th>\n",
       "      <th>event_id</th>\n",
       "    </tr>\n",
       "    <tr>\n",
       "      <th></th>\n",
       "      <th>mean</th>\n",
       "      <th>max</th>\n",
       "      <th>min</th>\n",
       "      <th>mean</th>\n",
       "      <th>mean</th>\n",
       "    </tr>\n",
       "    <tr>\n",
       "      <th>score</th>\n",
       "      <th></th>\n",
       "      <th></th>\n",
       "      <th></th>\n",
       "      <th></th>\n",
       "      <th></th>\n",
       "    </tr>\n",
       "  </thead>\n",
       "  <tbody>\n",
       "    <tr>\n",
       "      <th>0.5</th>\n",
       "      <td>108.179308</td>\n",
       "      <td>313</td>\n",
       "      <td>0</td>\n",
       "      <td>114.293968</td>\n",
       "      <td>802.570756</td>\n",
       "    </tr>\n",
       "    <tr>\n",
       "      <th>1.0</th>\n",
       "      <td>105.574167</td>\n",
       "      <td>451</td>\n",
       "      <td>0</td>\n",
       "      <td>136.023399</td>\n",
       "      <td>1206.570358</td>\n",
       "    </tr>\n",
       "    <tr>\n",
       "      <th>1.5</th>\n",
       "      <td>95.382315</td>\n",
       "      <td>568</td>\n",
       "      <td>0</td>\n",
       "      <td>143.304741</td>\n",
       "      <td>1259.687360</td>\n",
       "    </tr>\n",
       "    <tr>\n",
       "      <th>2.0</th>\n",
       "      <td>98.456583</td>\n",
       "      <td>855</td>\n",
       "      <td>0</td>\n",
       "      <td>131.562149</td>\n",
       "      <td>1161.031217</td>\n",
       "    </tr>\n",
       "    <tr>\n",
       "      <th>2.5</th>\n",
       "      <td>99.696969</td>\n",
       "      <td>847</td>\n",
       "      <td>0</td>\n",
       "      <td>150.510128</td>\n",
       "      <td>1380.885537</td>\n",
       "    </tr>\n",
       "    <tr>\n",
       "      <th>3.0</th>\n",
       "      <td>101.614095</td>\n",
       "      <td>887</td>\n",
       "      <td>0</td>\n",
       "      <td>160.319410</td>\n",
       "      <td>1519.664800</td>\n",
       "    </tr>\n",
       "    <tr>\n",
       "      <th>3.5</th>\n",
       "      <td>99.468483</td>\n",
       "      <td>1071</td>\n",
       "      <td>0</td>\n",
       "      <td>194.954310</td>\n",
       "      <td>1741.764347</td>\n",
       "    </tr>\n",
       "    <tr>\n",
       "      <th>4.0</th>\n",
       "      <td>99.711023</td>\n",
       "      <td>1247</td>\n",
       "      <td>0</td>\n",
       "      <td>223.114869</td>\n",
       "      <td>2032.933342</td>\n",
       "    </tr>\n",
       "    <tr>\n",
       "      <th>4.5</th>\n",
       "      <td>95.665620</td>\n",
       "      <td>1141</td>\n",
       "      <td>0</td>\n",
       "      <td>258.940124</td>\n",
       "      <td>2308.972109</td>\n",
       "    </tr>\n",
       "    <tr>\n",
       "      <th>5.0</th>\n",
       "      <td>94.237049</td>\n",
       "      <td>1186</td>\n",
       "      <td>0</td>\n",
       "      <td>292.785950</td>\n",
       "      <td>2600.685248</td>\n",
       "    </tr>\n",
       "    <tr>\n",
       "      <th>5.5</th>\n",
       "      <td>96.717079</td>\n",
       "      <td>1326</td>\n",
       "      <td>0</td>\n",
       "      <td>341.192093</td>\n",
       "      <td>2940.417711</td>\n",
       "    </tr>\n",
       "    <tr>\n",
       "      <th>6.0</th>\n",
       "      <td>95.085620</td>\n",
       "      <td>1233</td>\n",
       "      <td>0</td>\n",
       "      <td>370.985322</td>\n",
       "      <td>3027.016845</td>\n",
       "    </tr>\n",
       "  </tbody>\n",
       "</table>\n",
       "</div>"
      ],
      "text/plain": [
       "      action_time word_count                     event_id\n",
       "             mean        max min        mean         mean\n",
       "score                                                    \n",
       "0.5    108.179308        313   0  114.293968   802.570756\n",
       "1.0    105.574167        451   0  136.023399  1206.570358\n",
       "1.5     95.382315        568   0  143.304741  1259.687360\n",
       "2.0     98.456583        855   0  131.562149  1161.031217\n",
       "2.5     99.696969        847   0  150.510128  1380.885537\n",
       "3.0    101.614095        887   0  160.319410  1519.664800\n",
       "3.5     99.468483       1071   0  194.954310  1741.764347\n",
       "4.0     99.711023       1247   0  223.114869  2032.933342\n",
       "4.5     95.665620       1141   0  258.940124  2308.972109\n",
       "5.0     94.237049       1186   0  292.785950  2600.685248\n",
       "5.5     96.717079       1326   0  341.192093  2940.417711\n",
       "6.0     95.085620       1233   0  370.985322  3027.016845"
      ]
     },
     "execution_count": 9,
     "metadata": {},
     "output_type": "execute_result"
    }
   ],
   "source": [
    "# See average word count and action time corresponding to scores\n",
    "train.groupby(\"score\").agg({\"action_time\":\"mean\",\n",
    "                                 \"word_count\":(max,min,\"mean\"),\n",
    "                                  \"event_id\":\"mean\"\n",
    "                           })"
   ]
  },
  {
   "cell_type": "markdown",
   "id": "ee9c9f85",
   "metadata": {
    "papermill": {
     "duration": 0.013436,
     "end_time": "2023-11-17T19:46:20.483493",
     "exception": false,
     "start_time": "2023-11-17T19:46:20.470057",
     "status": "completed"
    },
    "tags": []
   },
   "source": [
    "* Average word count is higher in higher scores but the above metric is actually the average of \"word count after every event\"\n",
    "* Average number of events also increase with score...\n",
    "* Action time average above is the mean of the action time after every event \n",
    "* So low action time accompanied by higher word count/ number of events corresponds to a good score\n",
    "* But these are not exact metrics at ID level, we will need to create a dataframe at ID level taking mean, min, max of event_id , action_time , word_count"
   ]
  },
  {
   "cell_type": "code",
   "execution_count": 10,
   "id": "2e0ab745",
   "metadata": {
    "execution": {
     "iopub.execute_input": "2023-11-17T19:46:20.513305Z",
     "iopub.status.busy": "2023-11-17T19:46:20.512875Z",
     "iopub.status.idle": "2023-11-17T19:46:20.519357Z",
     "shell.execute_reply": "2023-11-17T19:46:20.518000Z"
    },
    "papermill": {
     "duration": 0.025139,
     "end_time": "2023-11-17T19:46:20.522279",
     "exception": false,
     "start_time": "2023-11-17T19:46:20.497140",
     "status": "completed"
    },
    "tags": []
   },
   "outputs": [],
   "source": [
    "# to build the legend as it is not appearing with the normal command\n",
    "import matplotlib.patches as mpatches\n",
    "from matplotlib.lines import Line2D\n",
    "import matplotlib.ticker"
   ]
  },
  {
   "cell_type": "markdown",
   "id": "944b05e2",
   "metadata": {
    "papermill": {
     "duration": 0.011918,
     "end_time": "2023-11-17T19:46:20.546923",
     "exception": false,
     "start_time": "2023-11-17T19:46:20.535005",
     "status": "completed"
    },
    "tags": []
   },
   "source": [
    "# Average Word Count& Events"
   ]
  },
  {
   "cell_type": "code",
   "execution_count": 11,
   "id": "80eb5143",
   "metadata": {
    "execution": {
     "iopub.execute_input": "2023-11-17T19:46:20.574057Z",
     "iopub.status.busy": "2023-11-17T19:46:20.573660Z",
     "iopub.status.idle": "2023-11-17T19:46:22.253681Z",
     "shell.execute_reply": "2023-11-17T19:46:22.251786Z"
    },
    "papermill": {
     "duration": 1.697469,
     "end_time": "2023-11-17T19:46:22.256713",
     "exception": false,
     "start_time": "2023-11-17T19:46:20.559244",
     "status": "completed"
    },
    "tags": []
   },
   "outputs": [
    {
     "data": {
      "image/png": "[encoded data removed]",
      "text/plain": [
       "<Figure size 640x480 with 2 Axes>"
      ]
     },
     "metadata": {},
     "output_type": "display_data"
    }
   ],
   "source": [
    "# let's get avg of word count in the essays corresponding to each score\n",
    "# and the max events that an essay has\n",
    "# We are taking max for event and word count because we want to see the total events that occured while writing the essay \n",
    "# and average word count of writers in each score level\n",
    "essay=train.groupby(\"id\").agg({\"action_time\":\"mean\",\n",
    "                                 \"word_count\":max,\n",
    "                                  \"event_id\":max,\n",
    "                                   \"score\":max})\n",
    "\n",
    "# Display the score wise word counts from each ID \n",
    "# this enables us to view what was the word count level at a use \n",
    "lineplot =essay.groupby(\"score\").agg({\"action_time\":\"mean\",\n",
    "                                 \"word_count\":(\"mean\"),\n",
    "                                  \"event_id\":(\"mean\")\n",
    "                           })\n",
    "\n",
    "lineplot\n",
    "\n",
    "fig,ax= plt.subplots()\n",
    "sns.set_style('darkgrid')\n",
    "plt.rcParams[\"figure.figsize\"]=(8,5)\n",
    "#sns.lineplot(data=lineplot,x=\"score\",y=\"action_time\",ax=ax)\n",
    "sns.lineplot(data=lineplot,x=\"score\",y=\"word_count\",ax=ax,color=\"red\",linestyle=\"dotted\")\n",
    "plt.ylabel(\"Average Word Count\")\n",
    "ax2=ax.twinx()\n",
    "sns.lineplot(data=lineplot,x=\"score\",y=\"event_id\",ax=ax2,color=\"green\",linestyle=\"-.\")\n",
    "plt.ylabel(\"Average Event Count\")\n",
    "plt.title(\"Average Word Count & Events by Score\")\n",
    "red_patch=Line2D([0],[0],color=\"red\",label=\"Avg. Word Count\",linestyle=\"dotted\")\n",
    "green_patch=Line2D([0],[0],color=\"green\",label=\"Avg. Event Count\",linestyle=\"-.\")\n",
    "plt.legend(handles=[red_patch,green_patch],loc=\"upper left\")\n",
    "plt.show();"
   ]
  },
  {
   "cell_type": "code",
   "execution_count": 12,
   "id": "78d7111d",
   "metadata": {
    "execution": {
     "iopub.execute_input": "2023-11-17T19:46:22.288913Z",
     "iopub.status.busy": "2023-11-17T19:46:22.288485Z",
     "iopub.status.idle": "2023-11-17T19:46:22.305688Z",
     "shell.execute_reply": "2023-11-17T19:46:22.304168Z"
    },
    "papermill": {
     "duration": 0.037028,
     "end_time": "2023-11-17T19:46:22.309211",
     "exception": false,
     "start_time": "2023-11-17T19:46:22.272183",
     "status": "completed"
    },
    "tags": []
   },
   "outputs": [
    {
     "data": {
      "text/html": [
       "<div>\n",
       "<style scoped>\n",
       "    .dataframe tbody tr th:only-of-type {\n",
       "        vertical-align: middle;\n",
       "    }\n",
       "\n",
       "    .dataframe tbody tr th {\n",
       "        vertical-align: top;\n",
       "    }\n",
       "\n",
       "    .dataframe thead th {\n",
       "        text-align: right;\n",
       "    }\n",
       "</style>\n",
       "<table border=\"1\" class=\"dataframe\">\n",
       "  <thead>\n",
       "    <tr style=\"text-align: right;\">\n",
       "      <th></th>\n",
       "      <th>action_time</th>\n",
       "      <th>word_count</th>\n",
       "      <th>event_id</th>\n",
       "    </tr>\n",
       "    <tr>\n",
       "      <th>score</th>\n",
       "      <th></th>\n",
       "      <th></th>\n",
       "      <th></th>\n",
       "    </tr>\n",
       "  </thead>\n",
       "  <tbody>\n",
       "    <tr>\n",
       "      <th>0.5</th>\n",
       "      <td>105.367020</td>\n",
       "      <td>231.400000</td>\n",
       "      <td>1571.600000</td>\n",
       "    </tr>\n",
       "    <tr>\n",
       "      <th>1.0</th>\n",
       "      <td>101.907062</td>\n",
       "      <td>218.457143</td>\n",
       "      <td>1852.371429</td>\n",
       "    </tr>\n",
       "    <tr>\n",
       "      <th>1.5</th>\n",
       "      <td>97.733989</td>\n",
       "      <td>245.855072</td>\n",
       "      <td>2097.289855</td>\n",
       "    </tr>\n",
       "    <tr>\n",
       "      <th>2.0</th>\n",
       "      <td>100.038292</td>\n",
       "      <td>237.510870</td>\n",
       "      <td>1997.923913</td>\n",
       "    </tr>\n",
       "    <tr>\n",
       "      <th>2.5</th>\n",
       "      <td>100.669885</td>\n",
       "      <td>257.701493</td>\n",
       "      <td>2298.995025</td>\n",
       "    </tr>\n",
       "    <tr>\n",
       "      <th>3.0</th>\n",
       "      <td>101.860359</td>\n",
       "      <td>284.449405</td>\n",
       "      <td>2537.883929</td>\n",
       "    </tr>\n",
       "    <tr>\n",
       "      <th>3.5</th>\n",
       "      <td>101.193658</td>\n",
       "      <td>345.119342</td>\n",
       "      <td>3015.973251</td>\n",
       "    </tr>\n",
       "    <tr>\n",
       "      <th>4.0</th>\n",
       "      <td>101.707980</td>\n",
       "      <td>401.532934</td>\n",
       "      <td>3554.778443</td>\n",
       "    </tr>\n",
       "    <tr>\n",
       "      <th>4.5</th>\n",
       "      <td>96.978518</td>\n",
       "      <td>481.843284</td>\n",
       "      <td>4184.850746</td>\n",
       "    </tr>\n",
       "    <tr>\n",
       "      <th>5.0</th>\n",
       "      <td>96.116819</td>\n",
       "      <td>548.698324</td>\n",
       "      <td>4727.731844</td>\n",
       "    </tr>\n",
       "    <tr>\n",
       "      <th>5.5</th>\n",
       "      <td>98.462551</td>\n",
       "      <td>641.101562</td>\n",
       "      <td>5504.703125</td>\n",
       "    </tr>\n",
       "    <tr>\n",
       "      <th>6.0</th>\n",
       "      <td>95.934151</td>\n",
       "      <td>695.702703</td>\n",
       "      <td>5675.000000</td>\n",
       "    </tr>\n",
       "  </tbody>\n",
       "</table>\n",
       "</div>"
      ],
      "text/plain": [
       "       action_time  word_count     event_id\n",
       "score                                      \n",
       "0.5     105.367020  231.400000  1571.600000\n",
       "1.0     101.907062  218.457143  1852.371429\n",
       "1.5      97.733989  245.855072  2097.289855\n",
       "2.0     100.038292  237.510870  1997.923913\n",
       "2.5     100.669885  257.701493  2298.995025\n",
       "3.0     101.860359  284.449405  2537.883929\n",
       "3.5     101.193658  345.119342  3015.973251\n",
       "4.0     101.707980  401.532934  3554.778443\n",
       "4.5      96.978518  481.843284  4184.850746\n",
       "5.0      96.116819  548.698324  4727.731844\n",
       "5.5      98.462551  641.101562  5504.703125\n",
       "6.0      95.934151  695.702703  5675.000000"
      ]
     },
     "execution_count": 12,
     "metadata": {},
     "output_type": "execute_result"
    }
   ],
   "source": [
    "lineplot"
   ]
  },
  {
   "cell_type": "markdown",
   "id": "bfe5094a",
   "metadata": {
    "papermill": {
     "duration": 0.016247,
     "end_time": "2023-11-17T19:46:22.340805",
     "exception": false,
     "start_time": "2023-11-17T19:46:22.324558",
     "status": "completed"
    },
    "tags": []
   },
   "source": [
    "# Takeaway\n",
    " So we can confirm that people who write longer worded essays score higher\n",
    " They have more events as a reason\n",
    " but the action time between their events is low"
   ]
  },
  {
   "cell_type": "markdown",
   "id": "3ec352c5",
   "metadata": {
    "papermill": {
     "duration": 0.013407,
     "end_time": "2023-11-17T19:46:22.371791",
     "exception": false,
     "start_time": "2023-11-17T19:46:22.358384",
     "status": "completed"
    },
    "tags": []
   },
   "source": [
    "\n"
   ]
  },
  {
   "cell_type": "code",
   "execution_count": 13,
   "id": "1985eb0f",
   "metadata": {
    "execution": {
     "iopub.execute_input": "2023-11-17T19:46:22.400874Z",
     "iopub.status.busy": "2023-11-17T19:46:22.400463Z",
     "iopub.status.idle": "2023-11-17T19:46:22.420309Z",
     "shell.execute_reply": "2023-11-17T19:46:22.418840Z"
    },
    "papermill": {
     "duration": 0.037322,
     "end_time": "2023-11-17T19:46:22.422801",
     "exception": false,
     "start_time": "2023-11-17T19:46:22.385479",
     "status": "completed"
    },
    "tags": []
   },
   "outputs": [
    {
     "data": {
      "text/html": [
       "<div>\n",
       "<style scoped>\n",
       "    .dataframe tbody tr th:only-of-type {\n",
       "        vertical-align: middle;\n",
       "    }\n",
       "\n",
       "    .dataframe tbody tr th {\n",
       "        vertical-align: top;\n",
       "    }\n",
       "\n",
       "    .dataframe thead th {\n",
       "        text-align: right;\n",
       "    }\n",
       "</style>\n",
       "<table border=\"1\" class=\"dataframe\">\n",
       "  <thead>\n",
       "    <tr style=\"text-align: right;\">\n",
       "      <th></th>\n",
       "      <th>id</th>\n",
       "      <th>event_id</th>\n",
       "      <th>down_time</th>\n",
       "      <th>up_time</th>\n",
       "      <th>action_time</th>\n",
       "      <th>activity</th>\n",
       "      <th>down_event</th>\n",
       "      <th>up_event</th>\n",
       "      <th>text_change</th>\n",
       "      <th>cursor_position</th>\n",
       "      <th>word_count</th>\n",
       "      <th>score</th>\n",
       "    </tr>\n",
       "  </thead>\n",
       "  <tbody>\n",
       "    <tr>\n",
       "      <th>0</th>\n",
       "      <td>001519c8</td>\n",
       "      <td>1</td>\n",
       "      <td>4526</td>\n",
       "      <td>4557</td>\n",
       "      <td>31</td>\n",
       "      <td>Nonproduction</td>\n",
       "      <td>Leftclick</td>\n",
       "      <td>Leftclick</td>\n",
       "      <td>NoChange</td>\n",
       "      <td>0</td>\n",
       "      <td>0</td>\n",
       "      <td>3.5</td>\n",
       "    </tr>\n",
       "    <tr>\n",
       "      <th>1</th>\n",
       "      <td>001519c8</td>\n",
       "      <td>2</td>\n",
       "      <td>4558</td>\n",
       "      <td>4962</td>\n",
       "      <td>404</td>\n",
       "      <td>Nonproduction</td>\n",
       "      <td>Leftclick</td>\n",
       "      <td>Leftclick</td>\n",
       "      <td>NoChange</td>\n",
       "      <td>0</td>\n",
       "      <td>0</td>\n",
       "      <td>3.5</td>\n",
       "    </tr>\n",
       "    <tr>\n",
       "      <th>2</th>\n",
       "      <td>001519c8</td>\n",
       "      <td>3</td>\n",
       "      <td>106571</td>\n",
       "      <td>106571</td>\n",
       "      <td>0</td>\n",
       "      <td>Nonproduction</td>\n",
       "      <td>Shift</td>\n",
       "      <td>Shift</td>\n",
       "      <td>NoChange</td>\n",
       "      <td>0</td>\n",
       "      <td>0</td>\n",
       "      <td>3.5</td>\n",
       "    </tr>\n",
       "    <tr>\n",
       "      <th>3</th>\n",
       "      <td>001519c8</td>\n",
       "      <td>4</td>\n",
       "      <td>106686</td>\n",
       "      <td>106777</td>\n",
       "      <td>91</td>\n",
       "      <td>Input</td>\n",
       "      <td>q</td>\n",
       "      <td>q</td>\n",
       "      <td>q</td>\n",
       "      <td>1</td>\n",
       "      <td>1</td>\n",
       "      <td>3.5</td>\n",
       "    </tr>\n",
       "    <tr>\n",
       "      <th>4</th>\n",
       "      <td>001519c8</td>\n",
       "      <td>5</td>\n",
       "      <td>107196</td>\n",
       "      <td>107323</td>\n",
       "      <td>127</td>\n",
       "      <td>Input</td>\n",
       "      <td>q</td>\n",
       "      <td>q</td>\n",
       "      <td>q</td>\n",
       "      <td>2</td>\n",
       "      <td>1</td>\n",
       "      <td>3.5</td>\n",
       "    </tr>\n",
       "  </tbody>\n",
       "</table>\n",
       "</div>"
      ],
      "text/plain": [
       "         id  event_id  down_time  up_time  action_time       activity  \\\n",
       "0  001519c8         1       4526     4557           31  Nonproduction   \n",
       "1  001519c8         2       4558     4962          404  Nonproduction   \n",
       "2  001519c8         3     106571   106571            0  Nonproduction   \n",
       "3  001519c8         4     106686   106777           91          Input   \n",
       "4  001519c8         5     107196   107323          127          Input   \n",
       "\n",
       "  down_event   up_event text_change  cursor_position  word_count  score  \n",
       "0  Leftclick  Leftclick    NoChange                0           0    3.5  \n",
       "1  Leftclick  Leftclick    NoChange                0           0    3.5  \n",
       "2      Shift      Shift    NoChange                0           0    3.5  \n",
       "3          q          q           q                1           1    3.5  \n",
       "4          q          q           q                2           1    3.5  "
      ]
     },
     "execution_count": 13,
     "metadata": {},
     "output_type": "execute_result"
    }
   ],
   "source": [
    "# Add most common actions in eachs core band, % of events that happen for a \n",
    "train.head()"
   ]
  },
  {
   "cell_type": "code",
   "execution_count": 14,
   "id": "52664c87",
   "metadata": {
    "execution": {
     "iopub.execute_input": "2023-11-17T19:46:22.453342Z",
     "iopub.status.busy": "2023-11-17T19:46:22.452856Z",
     "iopub.status.idle": "2023-11-17T19:46:22.459322Z",
     "shell.execute_reply": "2023-11-17T19:46:22.457883Z"
    },
    "papermill": {
     "duration": 0.025251,
     "end_time": "2023-11-17T19:46:22.462264",
     "exception": false,
     "start_time": "2023-11-17T19:46:22.437013",
     "status": "completed"
    },
    "tags": []
   },
   "outputs": [],
   "source": [
    "# What events correspond to high scores\n",
    "# lets compute\n",
    "# Avg Score per down event and up event\n",
    "# In each score bin what are 10 most occuring upevents and down events\n",
    "# In each score band what is the ditribtuin of activities Non production , input , replace etc"
   ]
  },
  {
   "cell_type": "markdown",
   "id": "cb03786c",
   "metadata": {
    "papermill": {
     "duration": 0.013578,
     "end_time": "2023-11-17T19:46:22.489990",
     "exception": false,
     "start_time": "2023-11-17T19:46:22.476412",
     "status": "completed"
    },
    "tags": []
   },
   "source": [
    "# Avg Score vs Down Event"
   ]
  },
  {
   "cell_type": "code",
   "execution_count": 15,
   "id": "0f328247",
   "metadata": {
    "execution": {
     "iopub.execute_input": "2023-11-17T19:46:22.520024Z",
     "iopub.status.busy": "2023-11-17T19:46:22.519240Z",
     "iopub.status.idle": "2023-11-17T19:46:23.858249Z",
     "shell.execute_reply": "2023-11-17T19:46:23.856879Z"
    },
    "papermill": {
     "duration": 1.357117,
     "end_time": "2023-11-17T19:46:23.861001",
     "exception": false,
     "start_time": "2023-11-17T19:46:22.503884",
     "status": "completed"
    },
    "tags": []
   },
   "outputs": [
    {
     "data": {
      "image/png": "[encoded data removed]",
      "text/plain": [
       "<Figure size 800x500 with 1 Axes>"
      ]
     },
     "metadata": {},
     "output_type": "display_data"
    }
   ],
   "source": [
    "plt.plot(train.groupby(\"down_event\").agg({'score':\"mean\"}).sort_values(\"score\",ascending= False).head(10))\n",
    "plt.title(\"Top 10 down events by Avg Score\")\n",
    "plt.show();"
   ]
  },
  {
   "cell_type": "markdown",
   "id": "cc398d7f",
   "metadata": {
    "papermill": {
     "duration": 0.014068,
     "end_time": "2023-11-17T19:46:23.890545",
     "exception": false,
     "start_time": "2023-11-17T19:46:23.876477",
     "status": "completed"
    },
    "tags": []
   },
   "source": [
    "# Avg Score by Upevent"
   ]
  },
  {
   "cell_type": "code",
   "execution_count": 16,
   "id": "1df06627",
   "metadata": {
    "execution": {
     "iopub.execute_input": "2023-11-17T19:46:23.921973Z",
     "iopub.status.busy": "2023-11-17T19:46:23.921467Z",
     "iopub.status.idle": "2023-11-17T19:46:25.252552Z",
     "shell.execute_reply": "2023-11-17T19:46:25.251156Z"
    },
    "papermill": {
     "duration": 1.350807,
     "end_time": "2023-11-17T19:46:25.255827",
     "exception": false,
     "start_time": "2023-11-17T19:46:23.905020",
     "status": "completed"
    },
    "tags": []
   },
   "outputs": [
    {
     "data": {
      "image/png": "[encoded data removed]",
      "text/plain": [
       "<Figure size 800x500 with 1 Axes>"
      ]
     },
     "metadata": {},
     "output_type": "display_data"
    }
   ],
   "source": [
    "plt.plot(train.groupby(\"up_event\").agg({'score':\"mean\"}).sort_values(\"score\",ascending= False).head(10))\n",
    "plt.title(\"Top 10 up events by Avg Score\")\n",
    "plt.show();"
   ]
  },
  {
   "cell_type": "markdown",
   "id": "e2c1d656",
   "metadata": {
    "papermill": {
     "duration": 0.015846,
     "end_time": "2023-11-17T19:46:25.387526",
     "exception": false,
     "start_time": "2023-11-17T19:46:25.371680",
     "status": "completed"
    },
    "tags": []
   },
   "source": [
    "# Avg Text by Score"
   ]
  },
  {
   "cell_type": "markdown",
   "id": "9fcf8d18",
   "metadata": {
    "papermill": {
     "duration": 0.01682,
     "end_time": "2023-11-17T19:46:25.420614",
     "exception": false,
     "start_time": "2023-11-17T19:46:25.403794",
     "status": "completed"
    },
    "tags": []
   },
   "source": []
  },
  {
   "cell_type": "code",
   "execution_count": 17,
   "id": "128b97c9",
   "metadata": {
    "execution": {
     "iopub.execute_input": "2023-11-17T19:46:25.454871Z",
     "iopub.status.busy": "2023-11-17T19:46:25.454394Z",
     "iopub.status.idle": "2023-11-17T19:46:32.838159Z",
     "shell.execute_reply": "2023-11-17T19:46:32.836772Z"
    },
    "papermill": {
     "duration": 7.403857,
     "end_time": "2023-11-17T19:46:32.841164",
     "exception": false,
     "start_time": "2023-11-17T19:46:25.437307",
     "status": "completed"
    },
    "tags": []
   },
   "outputs": [
    {
     "data": {
      "image/png": "[encoded data removed]",
      "text/plain": [
       "<Figure size 800x500 with 1 Axes>"
      ]
     },
     "metadata": {},
     "output_type": "display_data"
    }
   ],
   "source": [
    "#  Text change how much did the person actually write or change his previous version of the essay\n",
    "train.loc[:,'text_change_length'] = train['text_change'].apply(lambda x:len(x))\n",
    "plt.plot(train.groupby(\"score\").agg({'text_change_length':\"mean\"}),label=\"Mean\")\n",
    "plt.plot(train.groupby(\"score\").agg({'text_change_length':\"median\"}),label=\"Meadian\")\n",
    "plt.legend()\n",
    "plt.title(\"Average Text Change in Score Bands\")\n",
    "plt.show();"
   ]
  },
  {
   "cell_type": "markdown",
   "id": "b68abc96",
   "metadata": {
    "papermill": {
     "duration": 0.01774,
     "end_time": "2023-11-17T19:46:32.877449",
     "exception": false,
     "start_time": "2023-11-17T19:46:32.859709",
     "status": "completed"
    },
    "tags": []
   },
   "source": [
    "hmmm. so avg low lenght of text changes can be indicative of low or high score. Fishy. Variable is proabably segmented with effect of another variable or this means that the lenght of text changes are consistent and then there are large deviations which shit the mean but they do not happen in either of high scores or low scores..... so some events could consistently point to a low score and some likely to hhigh score."
   ]
  },
  {
   "cell_type": "markdown",
   "id": "e9d8e824",
   "metadata": {
    "papermill": {
     "duration": 0.016146,
     "end_time": "2023-11-17T19:46:32.910203",
     "exception": false,
     "start_time": "2023-11-17T19:46:32.894057",
     "status": "completed"
    },
    "tags": []
   },
   "source": [
    "# Lightgbm"
   ]
  },
  {
   "cell_type": "code",
   "execution_count": 18,
   "id": "a62dc854",
   "metadata": {
    "execution": {
     "iopub.execute_input": "2023-11-17T19:46:32.946114Z",
     "iopub.status.busy": "2023-11-17T19:46:32.945698Z",
     "iopub.status.idle": "2023-11-17T19:46:32.951339Z",
     "shell.execute_reply": "2023-11-17T19:46:32.950024Z"
    },
    "papermill": {
     "duration": 0.027112,
     "end_time": "2023-11-17T19:46:32.954546",
     "exception": false,
     "start_time": "2023-11-17T19:46:32.927434",
     "status": "completed"
    },
    "tags": []
   },
   "outputs": [],
   "source": [
    "# Lets build a baseline light gbm and then use shap to generate feature importance chart"
   ]
  },
  {
   "cell_type": "code",
   "execution_count": 19,
   "id": "fece2c92",
   "metadata": {
    "execution": {
     "iopub.execute_input": "2023-11-17T19:46:32.991009Z",
     "iopub.status.busy": "2023-11-17T19:46:32.990455Z",
     "iopub.status.idle": "2023-11-17T19:46:45.412231Z",
     "shell.execute_reply": "2023-11-17T19:46:45.410819Z"
    },
    "papermill": {
     "duration": 12.444275,
     "end_time": "2023-11-17T19:46:45.415686",
     "exception": false,
     "start_time": "2023-11-17T19:46:32.971411",
     "status": "completed"
    },
    "tags": []
   },
   "outputs": [],
   "source": [
    "from random import sample\n",
    "# We want to make sure there is peeking into the test set\n",
    "# In the first pass let's just simplify these variables\n",
    "train.loc[:,'text_change_length'] = train['text_change'].apply(lambda x:len(x))\n",
    "train.loc[:,'activity_c']=train['activity'].apply(lambda x:\"move\" if \"Move\" in x else x )\n",
    "\n",
    "test_id=sample(list(train.id.unique()),300)\n",
    "# Get train and test based on test id\n",
    "train_m= train[~train.id.isin(test_id)]\n",
    "test_m= train[train.id.isin(test_id)]"
   ]
  },
  {
   "cell_type": "code",
   "execution_count": 20,
   "id": "12bc7763",
   "metadata": {
    "execution": {
     "iopub.execute_input": "2023-11-17T19:46:45.452121Z",
     "iopub.status.busy": "2023-11-17T19:46:45.451707Z",
     "iopub.status.idle": "2023-11-17T19:46:45.457691Z",
     "shell.execute_reply": "2023-11-17T19:46:45.456207Z"
    },
    "papermill": {
     "duration": 0.027212,
     "end_time": "2023-11-17T19:46:45.460579",
     "exception": false,
     "start_time": "2023-11-17T19:46:45.433367",
     "status": "completed"
    },
    "tags": []
   },
   "outputs": [],
   "source": [
    "# let's create a dictionary to store the factorisers for categorical variables\n",
    "cats=['activity_c','down_event','up_event']\n",
    "# This is basically code to create dictionary\n",
    "# cat_dict={}\n",
    "# for i in cats:\n",
    "#     cat_dict[i]={}\n",
    "#     for j in range(0,len(list(train_m[i].unique()))):\n",
    "#         cat_dict[i][list(train_m[i].unique())[j]]=j"
   ]
  },
  {
   "cell_type": "code",
   "execution_count": 21,
   "id": "bf414bdd",
   "metadata": {
    "execution": {
     "iopub.execute_input": "2023-11-17T19:46:45.495001Z",
     "iopub.status.busy": "2023-11-17T19:46:45.494040Z",
     "iopub.status.idle": "2023-11-17T19:46:45.509136Z",
     "shell.execute_reply": "2023-11-17T19:46:45.507305Z"
    },
    "papermill": {
     "duration": 0.035411,
     "end_time": "2023-11-17T19:46:45.512048",
     "exception": false,
     "start_time": "2023-11-17T19:46:45.476637",
     "status": "completed"
    },
    "tags": []
   },
   "outputs": [],
   "source": [
    "import joblib\n",
    "# lets load the saved data dictionary\n",
    "cat_dict=joblib.load(\"/kaggle/input/cat-dict/cat_dict\")"
   ]
  },
  {
   "cell_type": "code",
   "execution_count": 22,
   "id": "d1b94424",
   "metadata": {
    "execution": {
     "iopub.execute_input": "2023-11-17T19:46:45.545688Z",
     "iopub.status.busy": "2023-11-17T19:46:45.545175Z",
     "iopub.status.idle": "2023-11-17T19:46:51.176221Z",
     "shell.execute_reply": "2023-11-17T19:46:51.174869Z"
    },
    "papermill": {
     "duration": 5.651735,
     "end_time": "2023-11-17T19:46:51.179714",
     "exception": false,
     "start_time": "2023-11-17T19:46:45.527979",
     "status": "completed"
    },
    "tags": []
   },
   "outputs": [],
   "source": [
    "model_vars=['event_id', 'down_time', 'up_time', 'action_time',\n",
    "       'down_event', 'up_event', 'cursor_position',\n",
    "       'word_count','text_change_length', 'activity_c']\n",
    "\n",
    "X_train=train_m.copy()\n",
    "X_test=test_m.copy()\n",
    "# Convert categorical to mapping\n",
    "for i in cats:\n",
    "    X_train[i]=X_train[i].map(cat_dict[i])\n",
    "    X_test[i]=X_test[i].map(cat_dict[i])\n",
    "    #X_train.loc[:,i]=X_train[i].astype(\"int\")\n",
    "    #X_test.loc[:,i]=X_test[i].astype(\"int\")"
   ]
  },
  {
   "cell_type": "code",
   "execution_count": 23,
   "id": "3f64fbd7",
   "metadata": {
    "execution": {
     "iopub.execute_input": "2023-11-17T19:46:51.217635Z",
     "iopub.status.busy": "2023-11-17T19:46:51.216350Z",
     "iopub.status.idle": "2023-11-17T19:47:29.800724Z",
     "shell.execute_reply": "2023-11-17T19:47:29.799406Z"
    },
    "papermill": {
     "duration": 38.622638,
     "end_time": "2023-11-17T19:47:29.819397",
     "exception": false,
     "start_time": "2023-11-17T19:46:51.196759",
     "status": "completed"
    },
    "tags": []
   },
   "outputs": [
    {
     "data": {
      "text/html": [
       "<style>#sk-container-id-1 {color: black;background-color: white;}#sk-container-id-1 pre{padding: 0;}#sk-container-id-1 div.sk-toggleable {background-color: white;}#sk-container-id-1 label.sk-toggleable__label {cursor: pointer;display: block;width: 100%;margin-bottom: 0;padding: 0.3em;box-sizing: border-box;text-align: center;}#sk-container-id-1 label.sk-toggleable__label-arrow:before {content: \"▸\";float: left;margin-right: 0.25em;color: #696969;}#sk-container-id-1 label.sk-toggleable__label-arrow:hover:before {color: black;}#sk-container-id-1 div.sk-estimator:hover label.sk-toggleable__label-arrow:before {color: black;}#sk-container-id-1 div.sk-toggleable__content {max-height: 0;max-width: 0;overflow: hidden;text-align: left;background-color: #f0f8ff;}#sk-container-id-1 div.sk-toggleable__content pre {margin: 0.2em;color: black;border-radius: 0.25em;background-color: #f0f8ff;}#sk-container-id-1 input.sk-toggleable__control:checked~div.sk-toggleable__content {max-height: 200px;max-width: 100%;overflow: auto;}#sk-container-id-1 input.sk-toggleable__control:checked~label.sk-toggleable__label-arrow:before {content: \"▾\";}#sk-container-id-1 div.sk-estimator input.sk-toggleable__control:checked~label.sk-toggleable__label {background-color: #d4ebff;}#sk-container-id-1 div.sk-label input.sk-toggleable__control:checked~label.sk-toggleable__label {background-color: #d4ebff;}#sk-container-id-1 input.sk-hidden--visually {border: 0;clip: rect(1px 1px 1px 1px);clip: rect(1px, 1px, 1px, 1px);height: 1px;margin: -1px;overflow: hidden;padding: 0;position: absolute;width: 1px;}#sk-container-id-1 div.sk-estimator {font-family: monospace;background-color: #f0f8ff;border: 1px dotted black;border-radius: 0.25em;box-sizing: border-box;margin-bottom: 0.5em;}#sk-container-id-1 div.sk-estimator:hover {background-color: #d4ebff;}#sk-container-id-1 div.sk-parallel-item::after {content: \"\";width: 100%;border-bottom: 1px solid gray;flex-grow: 1;}#sk-container-id-1 div.sk-label:hover label.sk-toggleable__label {background-color: #d4ebff;}#sk-container-id-1 div.sk-serial::before {content: \"\";position: absolute;border-left: 1px solid gray;box-sizing: border-box;top: 0;bottom: 0;left: 50%;z-index: 0;}#sk-container-id-1 div.sk-serial {display: flex;flex-direction: column;align-items: center;background-color: white;padding-right: 0.2em;padding-left: 0.2em;position: relative;}#sk-container-id-1 div.sk-item {position: relative;z-index: 1;}#sk-container-id-1 div.sk-parallel {display: flex;align-items: stretch;justify-content: center;background-color: white;position: relative;}#sk-container-id-1 div.sk-item::before, #sk-container-id-1 div.sk-parallel-item::before {content: \"\";position: absolute;border-left: 1px solid gray;box-sizing: border-box;top: 0;bottom: 0;left: 50%;z-index: -1;}#sk-container-id-1 div.sk-parallel-item {display: flex;flex-direction: column;z-index: 1;position: relative;background-color: white;}#sk-container-id-1 div.sk-parallel-item:first-child::after {align-self: flex-end;width: 50%;}#sk-container-id-1 div.sk-parallel-item:last-child::after {align-self: flex-start;width: 50%;}#sk-container-id-1 div.sk-parallel-item:only-child::after {width: 0;}#sk-container-id-1 div.sk-dashed-wrapped {border: 1px dashed gray;margin: 0 0.4em 0.5em 0.4em;box-sizing: border-box;padding-bottom: 0.4em;background-color: white;}#sk-container-id-1 div.sk-label label {font-family: monospace;font-weight: bold;display: inline-block;line-height: 1.2em;}#sk-container-id-1 div.sk-label-container {text-align: center;}#sk-container-id-1 div.sk-container {/* jupyter's `normalize.less` sets `[hidden] { display: none; }` but bootstrap.min.css set `[hidden] { display: none !important; }` so we also need the `!important` here to be able to override the default hidden behavior on the sphinx rendered scikit-learn.org. See: https://github.com/scikit-learn/scikit-learn/issues/21755 */display: inline-block !important;position: relative;}#sk-container-id-1 div.sk-text-repr-fallback {display: none;}</style><div id=\"sk-container-id-1\" class=\"sk-top-container\"><div class=\"sk-text-repr-fallback\"><pre>LGBMRegressor()</pre><b>In a Jupyter environment, please rerun this cell to show the HTML representation or trust the notebook. <br />On GitHub, the HTML representation is unable to render, please try loading this page with nbviewer.org.</b></div><div class=\"sk-container\" hidden><div class=\"sk-item\"><div class=\"sk-estimator sk-toggleable\"><input class=\"sk-toggleable__control sk-hidden--visually\" id=\"sk-estimator-id-1\" type=\"checkbox\" checked><label for=\"sk-estimator-id-1\" class=\"sk-toggleable__label sk-toggleable__label-arrow\">LGBMRegressor</label><div class=\"sk-toggleable__content\"><pre>LGBMRegressor()</pre></div></div></div></div></div>"
      ],
      "text/plain": [
       "LGBMRegressor()"
      ]
     },
     "execution_count": 23,
     "metadata": {},
     "output_type": "execute_result"
    }
   ],
   "source": [
    "lgb=LGBMRegressor()\n",
    "lgb.fit(X_train[model_vars], X_train['score'],\n",
    "        eval_set=[(X_test[model_vars], X_test['score'])],\n",
    "        categorical_feature=cats,\n",
    "        verbose=0,\n",
    "        early_stopping_rounds=8)"
   ]
  },
  {
   "cell_type": "markdown",
   "id": "77aabd27",
   "metadata": {
    "papermill": {
     "duration": 0.015922,
     "end_time": "2023-11-17T19:47:29.851517",
     "exception": false,
     "start_time": "2023-11-17T19:47:29.835595",
     "status": "completed"
    },
    "tags": []
   },
   "source": [
    "# Feature Importance"
   ]
  },
  {
   "cell_type": "code",
   "execution_count": 24,
   "id": "fbf31cc2",
   "metadata": {
    "execution": {
     "iopub.execute_input": "2023-11-17T19:47:29.885652Z",
     "iopub.status.busy": "2023-11-17T19:47:29.885267Z",
     "iopub.status.idle": "2023-11-17T19:47:37.229575Z",
     "shell.execute_reply": "2023-11-17T19:47:37.228013Z"
    },
    "papermill": {
     "duration": 7.364986,
     "end_time": "2023-11-17T19:47:37.232644",
     "exception": false,
     "start_time": "2023-11-17T19:47:29.867658",
     "status": "completed"
    },
    "tags": []
   },
   "outputs": [],
   "source": [
    "import shap"
   ]
  },
  {
   "cell_type": "code",
   "execution_count": 25,
   "id": "a6b268d4",
   "metadata": {
    "execution": {
     "iopub.execute_input": "2023-11-17T19:47:37.268176Z",
     "iopub.status.busy": "2023-11-17T19:47:37.267275Z",
     "iopub.status.idle": "2023-11-17T19:52:18.651206Z",
     "shell.execute_reply": "2023-11-17T19:52:18.649618Z"
    },
    "papermill": {
     "duration": 281.406366,
     "end_time": "2023-11-17T19:52:18.655561",
     "exception": false,
     "start_time": "2023-11-17T19:47:37.249195",
     "status": "completed"
    },
    "tags": []
   },
   "outputs": [],
   "source": [
    "# Explain model predictions using shap library:\n",
    "explainer = shap.TreeExplainer(lgb)\n",
    "shap_values = explainer.shap_values(X_test[model_vars])"
   ]
  },
  {
   "cell_type": "code",
   "execution_count": 26,
   "id": "7fb25622",
   "metadata": {
    "execution": {
     "iopub.execute_input": "2023-11-17T19:52:18.696178Z",
     "iopub.status.busy": "2023-11-17T19:52:18.695751Z",
     "iopub.status.idle": "2023-11-17T19:52:19.313421Z",
     "shell.execute_reply": "2023-11-17T19:52:19.312148Z"
    },
    "papermill": {
     "duration": 0.642053,
     "end_time": "2023-11-17T19:52:19.316430",
     "exception": false,
     "start_time": "2023-11-17T19:52:18.674377",
     "status": "completed"
    },
    "tags": []
   },
   "outputs": [
    {
     "data": {
      "image/png": "[encoded data removed]",
      "text/plain": [
       "<Figure size 800x550 with 1 Axes>"
      ]
     },
     "metadata": {},
     "output_type": "display_data"
    }
   ],
   "source": [
    "# Plot summary_plot as barplot:\n",
    "plt.style.use('ggplot')\n",
    "shap.summary_plot(shap_values, X_test[model_vars], plot_type='bar',color ='green',show=False)\n",
    "plt.title(\"Shap Feature Importance on Test Set\")\n",
    "plt.show();"
   ]
  },
  {
   "cell_type": "markdown",
   "id": "3f9320d3",
   "metadata": {
    "papermill": {
     "duration": 0.018735,
     "end_time": "2023-11-17T19:52:19.353270",
     "exception": false,
     "start_time": "2023-11-17T19:52:19.334535",
     "status": "completed"
    },
    "tags": []
   },
   "source": [
    "#### So basically activity and text change are useless the way used above. We need to extract the cordinate change from activity and identify some way of modelling text change as it has too high cardinality to model even for light gbm"
   ]
  }
 ],
 "metadata": {
  "kaggle": {
   "accelerator": "none",
   "dataSources": [
    {
     "databundleVersionId": 6678907,
     "sourceId": 59291,
     "sourceType": "competition"
    },
    {
     "datasetId": 3990952,
     "sourceId": 6949043,
     "sourceType": "datasetVersion"
    }
   ],
   "dockerImageVersionId": 30558,
   "isGpuEnabled": false,
   "isInternetEnabled": true,
   "language": "python",
   "sourceType": "notebook"
  },
  "kernelspec": {
   "display_name": "Python 3",
   "language": "python",
   "name": "python3"
  },
  "language_info": {
   "codemirror_mode": {
    "name": "ipython",
    "version": 3
   },
   "file_extension": ".py",
   "mimetype": "text/x-python",
   "name": "python",
   "nbconvert_exporter": "python",
   "pygments_lexer": "ipython3",
   "version": "3.10.12"
  },
  "papermill": {
   "default_parameters": {},
   "duration": 392.207319,
   "end_time": "2023-11-17T19:52:21.401906",
   "environment_variables": {},
   "exception": null,
   "input_path": "__notebook__.ipynb",
   "output_path": "__notebook__.ipynb",
   "parameters": {},
   "start_time": "2023-11-17T19:45:49.194587",
   "version": "2.4.0"
  }
 },
 "nbformat": 4,
 "nbformat_minor": 5
}
